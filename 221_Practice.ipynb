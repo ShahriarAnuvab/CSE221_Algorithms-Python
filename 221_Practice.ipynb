{
  "nbformat": 4,
  "nbformat_minor": 0,
  "metadata": {
    "colab": {
      "provenance": []
    },
    "kernelspec": {
      "name": "python3",
      "display_name": "Python 3"
    },
    "language_info": {
      "name": "python"
    }
  },
  "cells": [
    {
      "cell_type": "code",
      "metadata": {
        "id": "wcr9aUY5PP6Y"
      },
      "source": [
        "#Binary Search\n",
        "def binary(A, val):\n",
        "  l = len(A)\n",
        "  L = 0\n",
        "  R= l-1\n",
        "  while L < R:\n",
        "    M = (L+R)//2\n",
        "    if A[M]<val:\n",
        "      L = M+1\n",
        "    elif A[M] > val:\n",
        "      R = M-1\n",
        "    else:\n",
        "      return True\n",
        "  if A[L] == val:\n",
        "    return True\n",
        "  return False"
      ],
      "execution_count": null,
      "outputs": []
    },
    {
      "cell_type": "code",
      "metadata": {
        "colab": {
          "base_uri": "https://localhost:8080/"
        },
        "id": "1i2wLIY_Q1aX",
        "outputId": "01850cf0-4f81-4181-f164-551ba871b11a"
      },
      "source": [
        "A = [10, 20, 30, 40, 50, 60, 70, 80, 90, 100]\n",
        "binary(A, 10)"
      ],
      "execution_count": null,
      "outputs": [
        {
          "output_type": "execute_result",
          "data": {
            "text/plain": [
              "True"
            ]
          },
          "metadata": {},
          "execution_count": 4
        }
      ]
    },
    {
      "cell_type": "code",
      "metadata": {
        "id": "9gxJ8kLeRB2_"
      },
      "source": [
        "#linear Search\n",
        "def linear(A, val):\n",
        " for i in range(len(A)):\n",
        "   if A[i]== val:\n",
        "     return True\n",
        " return False\n"
      ],
      "execution_count": null,
      "outputs": []
    },
    {
      "cell_type": "code",
      "metadata": {
        "colab": {
          "base_uri": "https://localhost:8080/"
        },
        "id": "AJFhwMZIR3eb",
        "outputId": "c37f32f1-a3d6-47f6-de0b-a060b169a48c"
      },
      "source": [
        "A = [10, 20, 30, 40, 50, 60, 70, 80, 90, 100]\n",
        "linear(A, 0)"
      ],
      "execution_count": null,
      "outputs": [
        {
          "output_type": "execute_result",
          "data": {
            "text/plain": [
              "False"
            ]
          },
          "metadata": {},
          "execution_count": 22
        }
      ]
    },
    {
      "cell_type": "code",
      "metadata": {
        "id": "TXP6XI26SKC0"
      },
      "source": [
        "#Ternery Search\n",
        "def ternery(A, val):\n",
        "  l = len(A)\n",
        "  L = 0\n",
        "  R = l-1\n",
        "  while L < R:\n",
        "    M1 = L+(R-L)//3\n",
        "    M2 = R - (R-L)//3\n",
        "    if A[M1]== val or A[M2]== val:\n",
        "      return True\n",
        "    if A[M1] > val:\n",
        "      R = M1\n",
        "    elif A[M2] < val:\n",
        "      L = M2\n",
        "    else:\n",
        "      L = M1\n",
        "      R = M2\n",
        "  if A[L] == val:\n",
        "    return True\n",
        "  return False\n",
        "\n",
        ""
      ],
      "execution_count": null,
      "outputs": []
    },
    {
      "cell_type": "code",
      "metadata": {
        "colab": {
          "base_uri": "https://localhost:8080/"
        },
        "id": "0sEtMeLUTvjM",
        "outputId": "bb53d749-168f-4e5d-fba2-faa37d6d3bd7"
      },
      "source": [
        "A = [10, 20, 30, 40, 50, 60, 70, 80, 90, 100]\n",
        "ternery(A, 1200)"
      ],
      "execution_count": null,
      "outputs": [
        {
          "output_type": "execute_result",
          "data": {
            "text/plain": [
              "False"
            ]
          },
          "metadata": {},
          "execution_count": 19
        }
      ]
    },
    {
      "cell_type": "code",
      "metadata": {
        "id": "g4QIM4yGWZPM",
        "colab": {
          "base_uri": "https://localhost:8080/",
          "height": 35
        },
        "outputId": "d0730abd-0027-4203-bc88-aa053463a478"
      },
      "source": [
        "#boolean linear search\n",
        "def booleanlinearSearch(A, val, i):\n",
        "  while i > len(A):\n",
        "    return \"out of index\"\n",
        "  else:\n",
        "   for i in range(len(A)):\n",
        "     if A[i]== val:\n",
        "      return True\n",
        "  return False\n",
        "A = [10, 20, 30, 40, 50]\n",
        "booleanlinearSearch(A, 0, 6)"
      ],
      "execution_count": null,
      "outputs": [
        {
          "output_type": "execute_result",
          "data": {
            "application/vnd.google.colaboratory.intrinsic+json": {
              "type": "string"
            },
            "text/plain": [
              "'out of index'"
            ]
          },
          "metadata": {},
          "execution_count": 20
        }
      ]
    },
    {
      "cell_type": "code",
      "metadata": {
        "colab": {
          "base_uri": "https://localhost:8080/"
        },
        "id": "IWkU4ZbtTs6D",
        "outputId": "cda88f51-66fd-4723-9666-bfb1103a8f0c"
      },
      "source": [
        "#boolean linear search\n",
        "def booleanlinearSearch(A, val, i):\n",
        "  if i > len(A):\n",
        "    return \"out of index\"\n",
        "  else:\n",
        "   for i in range(len(A)):\n",
        "     if A[i]== val:\n",
        "      return True\n",
        "  return False\n",
        "A = [10, 20, 30, 40, 50]\n",
        "booleanlinearSearch(A, 50, 0)"
      ],
      "execution_count": null,
      "outputs": [
        {
          "output_type": "execute_result",
          "data": {
            "text/plain": [
              "True"
            ]
          },
          "metadata": {},
          "execution_count": 21
        }
      ]
    },
    {
      "cell_type": "code",
      "metadata": {
        "id": "sCNwQUmfVCFw"
      },
      "source": [
        "#Merge/Combine\n",
        "def merge(A,B):\n",
        "  l1 = len(A)\n",
        "  l2 = len(B)\n",
        "  C = [0]*(l1+l2)\n",
        "  k = 0\n",
        "  i = 0\n",
        "  j = 0\n",
        "  while i< l1 and j < l2:\n",
        "    if A[i] < B [j]:\n",
        "      C[k] = A[i]\n",
        "      i+=1\n",
        "      k+=1\n",
        "    else:\n",
        "      C[k] = B[j]\n",
        "      j+=1\n",
        "      k+=1\n",
        "  while i < l1:\n",
        "     C[k]= A[i]\n",
        "     i+=1\n",
        "     k+=1\n",
        "  while j < l2:\n",
        "     C[k]= B[j]\n",
        "     j+=1\n",
        "     k+=1\n",
        "  return C\n"
      ],
      "execution_count": null,
      "outputs": []
    },
    {
      "cell_type": "code",
      "metadata": {
        "colab": {
          "base_uri": "https://localhost:8080/"
        },
        "id": "6FQqmc37Yzho",
        "outputId": "f00e2c92-afef-4fff-b601-7381bde95c7d"
      },
      "source": [
        "A = [5, 10, 15, 20, 25]\n",
        "B = [6, 12, 18, 24, 30]\n",
        "merge(A,B)"
      ],
      "execution_count": null,
      "outputs": [
        {
          "output_type": "execute_result",
          "data": {
            "text/plain": [
              "[5, 6, 10, 12, 15, 18, 20, 24, 25, 30]"
            ]
          },
          "metadata": {},
          "execution_count": 5
        }
      ]
    },
    {
      "cell_type": "code",
      "metadata": {
        "id": "xC2ZazLGZIi0"
      },
      "source": [
        "def divide(A):\n",
        "  l = len(A)\n",
        "  if l == 1:\n",
        "    return A\n",
        "  mid = l//2\n",
        "  #B=A[:mid]\n",
        "  #C=A[md:l]\n",
        "  B = [0]*(mid)\n",
        "  C = [0]* (l-mid)\n",
        "  for i in range(mid):\n",
        "    B[i]= A[i]\n",
        "  j = 0\n",
        "  for i in range(mid,l):\n",
        "    C[j] = A[i]\n",
        "    j+= 1\n",
        "  E = divide(B)\n",
        "  F = divide(C)\n",
        "  Y = merge(E,F)\n",
        "  return Y"
      ],
      "execution_count": null,
      "outputs": []
    },
    {
      "cell_type": "code",
      "metadata": {
        "colab": {
          "base_uri": "https://localhost:8080/"
        },
        "id": "HuQ5mKFtcRzm",
        "outputId": "40aff230-4822-4279-b6e1-aca3546c7733"
      },
      "source": [
        "A = [50, 10, 5, 2, 3 ,100, 85, 17, 12]\n",
        "divide(A)"
      ],
      "execution_count": null,
      "outputs": [
        {
          "output_type": "execute_result",
          "data": {
            "text/plain": [
              "[2, 3, 5, 10, 12, 17, 50, 85, 100]"
            ]
          },
          "metadata": {},
          "execution_count": 7
        }
      ]
    },
    {
      "cell_type": "code",
      "metadata": {
        "id": "Z-D4C7LJcbSt"
      },
      "source": [
        "#Selection Sort\n",
        "def selection(A):\n",
        "  l = len(A)\n",
        "  for i in range(l):\n",
        "    id = i\n",
        "    for x in range(i,l):\n",
        "      if A[x] < A[id]:\n",
        "        id = x\n",
        "    temp = A[id]\n",
        "    A[id] = A[i]\n",
        "    A[i] = temp\n",
        "  return A"
      ],
      "execution_count": null,
      "outputs": []
    },
    {
      "cell_type": "code",
      "metadata": {
        "colab": {
          "base_uri": "https://localhost:8080/"
        },
        "id": "4C12Hx5HQQbE",
        "outputId": "dc19baf4-6643-4c4d-9c5f-dda909eebf9c"
      },
      "source": [
        "A = [50, 10, 5, 2, 3 ,100, 85, 17, 12]\n",
        "selection(A)"
      ],
      "execution_count": null,
      "outputs": [
        {
          "output_type": "execute_result",
          "data": {
            "text/plain": [
              "[2, 3, 5, 10, 12, 17, 50, 85, 100]"
            ]
          },
          "metadata": {},
          "execution_count": 7
        }
      ]
    },
    {
      "cell_type": "code",
      "metadata": {
        "id": "6LsuhoYqRWfQ"
      },
      "source": [
        "#Insertion Sort\n",
        "def insertion(A):\n",
        "  l = len(A)\n",
        "  for i in range(1,l):\n",
        "    for x in reversed(range(1,i+1)):\n",
        "      if A[x] < A[x-1]:\n",
        "        temp = A[x]\n",
        "        A[x] = A[x-1]\n",
        "        A[x-1] = temp\n",
        "  return A\n"
      ],
      "execution_count": null,
      "outputs": []
    },
    {
      "cell_type": "code",
      "metadata": {
        "colab": {
          "base_uri": "https://localhost:8080/"
        },
        "id": "4XVQhe5rS2tL",
        "outputId": "c4f6c685-d494-480a-9025-ff43efce1221"
      },
      "source": [
        "A = [50, 10, 5, 2, 3 ,100, 85, 17, 12]\n",
        "insertion(A)"
      ],
      "execution_count": null,
      "outputs": [
        {
          "output_type": "execute_result",
          "data": {
            "text/plain": [
              "[2, 3, 5, 10, 12, 17, 50, 85, 100]"
            ]
          },
          "metadata": {},
          "execution_count": 15
        }
      ]
    },
    {
      "cell_type": "code",
      "metadata": {
        "id": "hnOXOIhDS88b"
      },
      "source": [
        "#bubble sort\n",
        "def bubble(A):\n",
        "  l = len(A)\n",
        "  for i in range(l):\n",
        "    for x in range(1,l):\n",
        "      if A[x] < A[x-1]:\n",
        "        temp = A[x]\n",
        "        A[x] = A[x-1]\n",
        "        A[x-1] = temp\n",
        "  return A"
      ],
      "execution_count": null,
      "outputs": []
    },
    {
      "cell_type": "code",
      "metadata": {
        "colab": {
          "base_uri": "https://localhost:8080/"
        },
        "id": "iwG7O0J_T0sJ",
        "outputId": "35110fac-35fa-4422-b7fe-d2db5cb53d93"
      },
      "source": [
        "A = [50, 10, 5, 2, 3 ,100, 85, 17, 12]\n",
        "bubble(A)"
      ],
      "execution_count": null,
      "outputs": [
        {
          "output_type": "execute_result",
          "data": {
            "text/plain": [
              "[2, 3, 5, 10, 12, 17, 50, 85, 100]"
            ]
          },
          "metadata": {},
          "execution_count": 2
        }
      ]
    },
    {
      "cell_type": "code",
      "metadata": {
        "id": "s-O5iXe3T72_"
      },
      "source": [
        "#quick sort\n",
        "\n",
        "def quickSort_extra_memory(A):\n",
        "  l =len(A)\n",
        "  if l <= 1:\n",
        "    return A\n",
        "  B=[]\n",
        "  C=[]\n",
        "  pv=A[0]\n",
        "  for i in range(1,l):\n",
        "    if A[i]<pv:\n",
        "      B.append(A[i])\n",
        "    else:\n",
        "      C.append(A[i])\n",
        "  E=quickSort_extra_memory(B)\n",
        "  F=quickSort_extra_memory(C)\n",
        "  G=E+[pv]+F\n",
        "  return G"
      ],
      "execution_count": null,
      "outputs": []
    },
    {
      "cell_type": "markdown",
      "metadata": {
        "id": "n91GCQrWJ89U"
      },
      "source": []
    },
    {
      "cell_type": "code",
      "metadata": {
        "id": "RjvbCWhpKo5p"
      },
      "source": [
        "def quickSort(A,L,R):\n",
        "  if L>=R:\n",
        "    return\n",
        "  pv=A[L]\n",
        "  cnt=0\n",
        "  for i in range(L,R+1):\n",
        "    if A[i]<pv:\n",
        "      cnt+=1\n",
        "  id=L+cnt\n",
        "  A[L],A[id]=A[id],A[L]\n",
        "  i=L\n",
        "  j=id+1\n",
        "  while i<id:\n",
        "\n",
        "    while i<id and A[i] < A[id]:\n",
        "      i+=1\n",
        "    while j < R+1 and A[j] >= A[id]:\n",
        "      j+=1\n",
        "    if i<id and j < R+1:\n",
        "      A[i],A[j]=A[j],A[i]\n",
        "  quickSort(A,L,id-1)\n",
        "  quickSort(A,id+1,R)\n"
      ],
      "execution_count": null,
      "outputs": []
    },
    {
      "cell_type": "code",
      "metadata": {
        "colab": {
          "base_uri": "https://localhost:8080/"
        },
        "id": "SOy8bc78Jh2u",
        "outputId": "cfd1d83f-5bb4-4845-ac5e-617293a2427a"
      },
      "source": [
        "A = [50, 10, 5, 2, 3 ,100, 85, 17, 12]\n",
        "quickSort(A,0,len(A)-1)\n",
        "A"
      ],
      "execution_count": null,
      "outputs": [
        {
          "output_type": "execute_result",
          "data": {
            "text/plain": [
              "[2, 3, 5, 10, 12, 17, 50, 85, 100]"
            ]
          },
          "metadata": {},
          "execution_count": 16
        }
      ]
    },
    {
      "cell_type": "code",
      "metadata": {
        "id": "G_nlGEYOY77j"
      },
      "source": [
        "def palindrome(A):\n",
        "  l= len(A)\n",
        "  if l == 0:\n",
        "    return False\n",
        "  i = 0\n",
        "  j = l-1\n",
        "  while i<j:\n",
        "    if A[i] == A[j]:\n",
        "      i+=1\n",
        "      j-=1\n",
        "    else:\n",
        "      return False\n",
        "  return True\n",
        "\n",
        "\n",
        "\n",
        "\n"
      ],
      "execution_count": null,
      "outputs": []
    },
    {
      "cell_type": "code",
      "metadata": {
        "colab": {
          "base_uri": "https://localhost:8080/"
        },
        "id": "jnTlv5N2ZGBb",
        "outputId": "49142be2-642d-4f31-a275-e40f404b4b3e"
      },
      "source": [
        "A= \"Cow\"\n",
        "print(palindrome(A))"
      ],
      "execution_count": null,
      "outputs": [
        {
          "output_type": "stream",
          "name": "stdout",
          "text": [
            "False\n"
          ]
        }
      ]
    },
    {
      "cell_type": "code",
      "metadata": {
        "id": "S_tYNP11aQGs"
      },
      "source": [
        "#Sink/Heapify\n",
        "def Heapify(A,i,l):\n",
        "  L=i*2\n",
        "  R=i*2+1\n",
        "  largest=i\n",
        "  if L<=l and A[L]>A[i]:\n",
        "    largest=L\n",
        "  if R<=l and A[R]>A[largest]:\n",
        "    largest=R\n",
        "\n",
        "  if largest != i:\n",
        "    A[i],A[largest]=A[largest],A[i]\n",
        "    Heapify(A,largest,l)"
      ],
      "execution_count": null,
      "outputs": []
    },
    {
      "cell_type": "code",
      "metadata": {
        "id": "-Zyqdl7qGVuW"
      },
      "source": [
        "#increase/Swim\n",
        "def Swim(A,i):\n",
        "  if i==1:\n",
        "    return\n",
        "  par=i//2\n",
        "  if A[i]>A[par]:\n",
        "    A[i],A[par]=A[par],A[i]\n",
        "    Swim(A,par)"
      ],
      "execution_count": null,
      "outputs": []
    },
    {
      "cell_type": "code",
      "metadata": {
        "colab": {
          "base_uri": "https://localhost:8080/"
        },
        "id": "3eVFC2KeG1Fa",
        "outputId": "3fa92650-129e-46f4-f60e-eca352cb4b96"
      },
      "source": [
        "A=[-1,1,2,3,9,7,8,9,1,14,16]\n",
        "#print(A)\n",
        "for i in range(1,len(A)):\n",
        "  Swim(A,i)\n",
        "i=len(A)-1\n",
        "l=len(A)-1\n",
        "#print(A)\n",
        "while i>1:\n",
        "  A[1],A[i]=A[i],A[1]\n",
        "  l-=1\n",
        "  Heapify(A,1,l)\n",
        "  i-=1\n",
        "  #print(A)\n",
        "\n",
        "print(A)"
      ],
      "execution_count": null,
      "outputs": [
        {
          "output_type": "stream",
          "name": "stdout",
          "text": [
            "[-1, 1, 1, 2, 3, 7, 8, 9, 9, 14, 16]\n"
          ]
        }
      ]
    },
    {
      "cell_type": "code",
      "metadata": {
        "id": "xvUDTXIncT_n"
      },
      "source": [
        "import math\n",
        "def BFS(adj,st,end,n):\n",
        "  vis=np.array([0]*(n+1))\n",
        "  cost=np.array([math.inf]*(n+1))\n",
        "  q=[]\n",
        "\n",
        "  q.append(st)\n",
        "  vis[st]=1\n",
        "  cost[st]=0\n",
        "\n",
        "  while len(q):\n",
        "    u=q[0]\n",
        "    q.pop(0)\n",
        "    #for i in range(n):\n",
        "    for x in adj[u]:\n",
        "      #if adj[u][i] and vis[i] == 0:\n",
        "      if vis[x] == 0:\n",
        "        #vis[i]=1\n",
        "        vis[x]=1\n",
        "        #q.append(i)\n",
        "        q.append(x)\n",
        "        #cost[i]=cost[u]+1\n",
        "        cost[x]=cost[u]+1\n",
        "  return cost[end]\n"
      ],
      "execution_count": null,
      "outputs": []
    },
    {
      "cell_type": "code",
      "metadata": {
        "colab": {
          "base_uri": "https://localhost:8080/"
        },
        "id": "CW46Wrl7RJMi",
        "outputId": "3f4d3fa4-2bf7-4093-e2bf-f0c194d2ac48"
      },
      "source": [
        "import numpy as np\n",
        "from collections import defaultdict\n",
        "n=int(input(\"Enter Number of Nodes: \"))\n",
        "m=int(input(\"Enter Number of Edges: \"))\n",
        "#adj=np.array([[0]*(n+1)]*(n+1))\n",
        "adj = defaultdict(list)\n",
        "for i in range(m):\n",
        "  u=int(input())\n",
        "  v=int(input())\n",
        "  #adj[u][v]=1\n",
        "  #adj[v][u]=1\n",
        "  adj[u].append(v)\n",
        "  adj[v].append(u)\n",
        "st=int(input(\"Enter Starting node: \"))\n",
        "end=int(input(\"Enter Destination node: \"))\n",
        "print(\"Cost of travelling from \",st,\" to \",end,\" is \",BFS(adj,st,end,n))"
      ],
      "execution_count": null,
      "outputs": [
        {
          "output_type": "stream",
          "name": "stdout",
          "text": [
            "Enter Number of Nodes: 4\n",
            "Enter Number of Edges: 5\n",
            "1\n",
            "2\n",
            "1\n",
            "3\n",
            "1\n",
            "4\n",
            "4\n",
            "3\n",
            "3\n",
            "2\n",
            "Enter Starting node: 2\n",
            "Enter Destination node: 4\n",
            "Cost of travelling from  2  to  4  is  2.0\n"
          ]
        }
      ]
    },
    {
      "cell_type": "code",
      "metadata": {
        "id": "qpKW11qPTHeY"
      },
      "source": [
        "lev=[0]*10\n",
        "VIS=[0]*10\n",
        "def DFS(adj,v,l):\n",
        "  global lev,VIS\n",
        "  VIS[v]=1\n",
        "  lev[v]=l\n",
        "  for x in adj[v]:\n",
        "    if VIS[x] == 0:\n",
        "      DFS(adj,x,l+1)"
      ],
      "execution_count": null,
      "outputs": []
    },
    {
      "cell_type": "code",
      "metadata": {
        "colab": {
          "base_uri": "https://localhost:8080/"
        },
        "id": "B2clMuE2Khx4",
        "outputId": "2df11b59-9de2-450f-90ba-4eefa8001a35"
      },
      "source": [
        "import numpy as np\n",
        "n=int(input(\"Enter Number of Nodes: \"))\n",
        "m=int(input(\"Enter Number of Edges: \"))\n",
        "#adj=np.array([[0]*(n+1)]*(n+1))\n",
        "adj = defaultdict(list)\n",
        "for i in range(m):\n",
        "  u=int(input())\n",
        "  v=int(input())\n",
        "  #adj[u][v]=1\n",
        "  #adj[v][u]=1\n",
        "  adj[u].append(v)\n",
        "  adj[v].append(u)\n",
        "DFS(adj,1,0)\n",
        "print(lev)"
      ],
      "execution_count": null,
      "outputs": [
        {
          "output_type": "stream",
          "name": "stdout",
          "text": [
            "Enter Number of Nodes: 4\n",
            "Enter Number of Edges: 5\n",
            "1\n",
            "2\n",
            "1\n",
            "3\n",
            "1\n",
            "4\n",
            "4\n",
            "3\n",
            "3\n",
            "2\n",
            "[0, 0, 1, 2, 3, 0, 0, 0, 0, 0, 0, 0, 0, 0, 0, 0, 0, 0, 0, 0, 0, 0, 0, 0, 0, 0, 0, 0, 0, 0, 0, 0, 0, 0, 0, 0, 0, 0, 0, 0, 0, 0, 0, 0, 0, 0, 0, 0, 0, 0, 0, 0, 0, 0, 0, 0, 0, 0, 0, 0, 0, 0, 0, 0, 0, 0, 0, 0, 0, 0, 0, 0, 0, 0, 0, 0, 0, 0, 0, 0, 0, 0, 0, 0, 0, 0, 0, 0, 0, 0, 0, 0, 0, 0, 0, 0, 0, 0, 0, 0]\n"
          ]
        }
      ]
    },
    {
      "cell_type": "code",
      "metadata": {
        "id": "g19KD0xtPnWz"
      },
      "source": [
        "def topologicalSort(adj,In,n):\n",
        "  q=[]\n",
        "  SORT=[]\n",
        "  for i in range(n):\n",
        "    if In[i] == 0:\n",
        "      q.append(i)\n",
        "  while len(q)>0:\n",
        "    u = q[0]\n",
        "    SORT.append(u)\n",
        "    q.pop(0)\n",
        "    for x in adj[u]:\n",
        "      In[x]-=1\n",
        "      if In[x] == 0:\n",
        "        q.append(x)\n",
        "  return SORT\n"
      ],
      "execution_count": null,
      "outputs": []
    },
    {
      "cell_type": "code",
      "metadata": {
        "colab": {
          "base_uri": "https://localhost:8080/",
          "height": 536
        },
        "id": "s00-uf34P1wy",
        "outputId": "0b160497-fb8e-4ea1-9ec3-95f602cee86b"
      },
      "source": [
        "from collections import defaultdict\n",
        "n=int(input(\"Enter Number of Nodes: \"))\n",
        "m=int(input(\"Enter Number of Edges: \"))\n",
        "adj = defaultdict(list)\n",
        "In=[0]*(n+2)\n",
        "for i in range(m):\n",
        "  u=int(input())\n",
        "  v=int(input())\n",
        "  adj[u].append(v)\n",
        "  In[v]+=1\n",
        "sorted=topologicalSort(adj,In,n)\n",
        "print(sorted)"
      ],
      "execution_count": null,
      "outputs": [
        {
          "output_type": "error",
          "ename": "KeyboardInterrupt",
          "evalue": "ignored",
          "traceback": [
            "\u001b[0;31m---------------------------------------------------------------------------\u001b[0m",
            "\u001b[0;31mKeyboardInterrupt\u001b[0m                         Traceback (most recent call last)",
            "\u001b[0;32m/usr/local/lib/python3.7/dist-packages/ipykernel/kernelbase.py\u001b[0m in \u001b[0;36m_input_request\u001b[0;34m(self, prompt, ident, parent, password)\u001b[0m\n\u001b[1;32m    728\u001b[0m             \u001b[0;32mtry\u001b[0m\u001b[0;34m:\u001b[0m\u001b[0;34m\u001b[0m\u001b[0;34m\u001b[0m\u001b[0m\n\u001b[0;32m--> 729\u001b[0;31m                 \u001b[0mident\u001b[0m\u001b[0;34m,\u001b[0m \u001b[0mreply\u001b[0m \u001b[0;34m=\u001b[0m \u001b[0mself\u001b[0m\u001b[0;34m.\u001b[0m\u001b[0msession\u001b[0m\u001b[0;34m.\u001b[0m\u001b[0mrecv\u001b[0m\u001b[0;34m(\u001b[0m\u001b[0mself\u001b[0m\u001b[0;34m.\u001b[0m\u001b[0mstdin_socket\u001b[0m\u001b[0;34m,\u001b[0m \u001b[0;36m0\u001b[0m\u001b[0;34m)\u001b[0m\u001b[0;34m\u001b[0m\u001b[0;34m\u001b[0m\u001b[0m\n\u001b[0m\u001b[1;32m    730\u001b[0m             \u001b[0;32mexcept\u001b[0m \u001b[0mException\u001b[0m\u001b[0;34m:\u001b[0m\u001b[0;34m\u001b[0m\u001b[0;34m\u001b[0m\u001b[0m\n",
            "\u001b[0;32m/usr/local/lib/python3.7/dist-packages/jupyter_client/session.py\u001b[0m in \u001b[0;36mrecv\u001b[0;34m(self, socket, mode, content, copy)\u001b[0m\n\u001b[1;32m    802\u001b[0m         \u001b[0;32mtry\u001b[0m\u001b[0;34m:\u001b[0m\u001b[0;34m\u001b[0m\u001b[0;34m\u001b[0m\u001b[0m\n\u001b[0;32m--> 803\u001b[0;31m             \u001b[0mmsg_list\u001b[0m \u001b[0;34m=\u001b[0m \u001b[0msocket\u001b[0m\u001b[0;34m.\u001b[0m\u001b[0mrecv_multipart\u001b[0m\u001b[0;34m(\u001b[0m\u001b[0mmode\u001b[0m\u001b[0;34m,\u001b[0m \u001b[0mcopy\u001b[0m\u001b[0;34m=\u001b[0m\u001b[0mcopy\u001b[0m\u001b[0;34m)\u001b[0m\u001b[0;34m\u001b[0m\u001b[0;34m\u001b[0m\u001b[0m\n\u001b[0m\u001b[1;32m    804\u001b[0m         \u001b[0;32mexcept\u001b[0m \u001b[0mzmq\u001b[0m\u001b[0;34m.\u001b[0m\u001b[0mZMQError\u001b[0m \u001b[0;32mas\u001b[0m \u001b[0me\u001b[0m\u001b[0;34m:\u001b[0m\u001b[0;34m\u001b[0m\u001b[0;34m\u001b[0m\u001b[0m\n",
            "\u001b[0;32m/usr/local/lib/python3.7/dist-packages/zmq/sugar/socket.py\u001b[0m in \u001b[0;36mrecv_multipart\u001b[0;34m(self, flags, copy, track)\u001b[0m\n\u001b[1;32m    624\u001b[0m         \"\"\"\n\u001b[0;32m--> 625\u001b[0;31m         \u001b[0mparts\u001b[0m \u001b[0;34m=\u001b[0m \u001b[0;34m[\u001b[0m\u001b[0mself\u001b[0m\u001b[0;34m.\u001b[0m\u001b[0mrecv\u001b[0m\u001b[0;34m(\u001b[0m\u001b[0mflags\u001b[0m\u001b[0;34m,\u001b[0m \u001b[0mcopy\u001b[0m\u001b[0;34m=\u001b[0m\u001b[0mcopy\u001b[0m\u001b[0;34m,\u001b[0m \u001b[0mtrack\u001b[0m\u001b[0;34m=\u001b[0m\u001b[0mtrack\u001b[0m\u001b[0;34m)\u001b[0m\u001b[0;34m]\u001b[0m\u001b[0;34m\u001b[0m\u001b[0;34m\u001b[0m\u001b[0m\n\u001b[0m\u001b[1;32m    626\u001b[0m         \u001b[0;31m# have first part already, only loop while more to receive\u001b[0m\u001b[0;34m\u001b[0m\u001b[0;34m\u001b[0m\u001b[0;34m\u001b[0m\u001b[0m\n",
            "\u001b[0;32mzmq/backend/cython/socket.pyx\u001b[0m in \u001b[0;36mzmq.backend.cython.socket.Socket.recv\u001b[0;34m()\u001b[0m\n",
            "\u001b[0;32mzmq/backend/cython/socket.pyx\u001b[0m in \u001b[0;36mzmq.backend.cython.socket.Socket.recv\u001b[0;34m()\u001b[0m\n",
            "\u001b[0;32mzmq/backend/cython/socket.pyx\u001b[0m in \u001b[0;36mzmq.backend.cython.socket._recv_copy\u001b[0;34m()\u001b[0m\n",
            "\u001b[0;32m/usr/local/lib/python3.7/dist-packages/zmq/backend/cython/checkrc.pxd\u001b[0m in \u001b[0;36mzmq.backend.cython.checkrc._check_rc\u001b[0;34m()\u001b[0m\n",
            "\u001b[0;31mKeyboardInterrupt\u001b[0m: ",
            "\nDuring handling of the above exception, another exception occurred:\n",
            "\u001b[0;31mKeyboardInterrupt\u001b[0m                         Traceback (most recent call last)",
            "\u001b[0;32m<ipython-input-4-06b18c8a090d>\u001b[0m in \u001b[0;36m<module>\u001b[0;34m()\u001b[0m\n\u001b[1;32m      1\u001b[0m \u001b[0;32mfrom\u001b[0m \u001b[0mcollections\u001b[0m \u001b[0;32mimport\u001b[0m \u001b[0mdefaultdict\u001b[0m\u001b[0;34m\u001b[0m\u001b[0;34m\u001b[0m\u001b[0m\n\u001b[0;32m----> 2\u001b[0;31m \u001b[0mn\u001b[0m\u001b[0;34m=\u001b[0m\u001b[0mint\u001b[0m\u001b[0;34m(\u001b[0m\u001b[0minput\u001b[0m\u001b[0;34m(\u001b[0m\u001b[0;34m\"Enter Number of Nodes: \"\u001b[0m\u001b[0;34m)\u001b[0m\u001b[0;34m)\u001b[0m\u001b[0;34m\u001b[0m\u001b[0;34m\u001b[0m\u001b[0m\n\u001b[0m\u001b[1;32m      3\u001b[0m \u001b[0mm\u001b[0m\u001b[0;34m=\u001b[0m\u001b[0mint\u001b[0m\u001b[0;34m(\u001b[0m\u001b[0minput\u001b[0m\u001b[0;34m(\u001b[0m\u001b[0;34m\"Enter Number of Edges: \"\u001b[0m\u001b[0;34m)\u001b[0m\u001b[0;34m)\u001b[0m\u001b[0;34m\u001b[0m\u001b[0;34m\u001b[0m\u001b[0m\n\u001b[1;32m      4\u001b[0m \u001b[0madj\u001b[0m \u001b[0;34m=\u001b[0m \u001b[0mdefaultdict\u001b[0m\u001b[0;34m(\u001b[0m\u001b[0mlist\u001b[0m\u001b[0;34m)\u001b[0m\u001b[0;34m\u001b[0m\u001b[0;34m\u001b[0m\u001b[0m\n\u001b[1;32m      5\u001b[0m \u001b[0mIn\u001b[0m\u001b[0;34m=\u001b[0m\u001b[0;34m[\u001b[0m\u001b[0;36m0\u001b[0m\u001b[0;34m]\u001b[0m\u001b[0;34m*\u001b[0m\u001b[0;34m(\u001b[0m\u001b[0mn\u001b[0m\u001b[0;34m+\u001b[0m\u001b[0;36m2\u001b[0m\u001b[0;34m)\u001b[0m\u001b[0;34m\u001b[0m\u001b[0;34m\u001b[0m\u001b[0m\n",
            "\u001b[0;32m/usr/local/lib/python3.7/dist-packages/ipykernel/kernelbase.py\u001b[0m in \u001b[0;36mraw_input\u001b[0;34m(self, prompt)\u001b[0m\n\u001b[1;32m    702\u001b[0m             \u001b[0mself\u001b[0m\u001b[0;34m.\u001b[0m\u001b[0m_parent_ident\u001b[0m\u001b[0;34m,\u001b[0m\u001b[0;34m\u001b[0m\u001b[0;34m\u001b[0m\u001b[0m\n\u001b[1;32m    703\u001b[0m             \u001b[0mself\u001b[0m\u001b[0;34m.\u001b[0m\u001b[0m_parent_header\u001b[0m\u001b[0;34m,\u001b[0m\u001b[0;34m\u001b[0m\u001b[0;34m\u001b[0m\u001b[0m\n\u001b[0;32m--> 704\u001b[0;31m             \u001b[0mpassword\u001b[0m\u001b[0;34m=\u001b[0m\u001b[0;32mFalse\u001b[0m\u001b[0;34m,\u001b[0m\u001b[0;34m\u001b[0m\u001b[0;34m\u001b[0m\u001b[0m\n\u001b[0m\u001b[1;32m    705\u001b[0m         )\n\u001b[1;32m    706\u001b[0m \u001b[0;34m\u001b[0m\u001b[0m\n",
            "\u001b[0;32m/usr/local/lib/python3.7/dist-packages/ipykernel/kernelbase.py\u001b[0m in \u001b[0;36m_input_request\u001b[0;34m(self, prompt, ident, parent, password)\u001b[0m\n\u001b[1;32m    732\u001b[0m             \u001b[0;32mexcept\u001b[0m \u001b[0mKeyboardInterrupt\u001b[0m\u001b[0;34m:\u001b[0m\u001b[0;34m\u001b[0m\u001b[0;34m\u001b[0m\u001b[0m\n\u001b[1;32m    733\u001b[0m                 \u001b[0;31m# re-raise KeyboardInterrupt, to truncate traceback\u001b[0m\u001b[0;34m\u001b[0m\u001b[0;34m\u001b[0m\u001b[0;34m\u001b[0m\u001b[0m\n\u001b[0;32m--> 734\u001b[0;31m                 \u001b[0;32mraise\u001b[0m \u001b[0mKeyboardInterrupt\u001b[0m\u001b[0;34m\u001b[0m\u001b[0;34m\u001b[0m\u001b[0m\n\u001b[0m\u001b[1;32m    735\u001b[0m             \u001b[0;32melse\u001b[0m\u001b[0;34m:\u001b[0m\u001b[0;34m\u001b[0m\u001b[0;34m\u001b[0m\u001b[0m\n\u001b[1;32m    736\u001b[0m                 \u001b[0;32mbreak\u001b[0m\u001b[0;34m\u001b[0m\u001b[0;34m\u001b[0m\u001b[0m\n",
            "\u001b[0;31mKeyboardInterrupt\u001b[0m: "
          ]
        }
      ]
    },
    {
      "cell_type": "code",
      "metadata": {
        "colab": {
          "base_uri": "https://localhost:8080/"
        },
        "id": "RF-q-PfZNnJd",
        "outputId": "2031dd69-ce82-4c1c-eef3-a40dcb49e49b"
      },
      "source": [
        "#Task-1\n",
        "inp=open('input_file.txt')\n",
        "out=open('output_file.txt','w')\n",
        "out2=open('out2.txt','w')\n",
        "out3=open('out3.txt','w')\n",
        "line=inp.readline()\n",
        "line=line.split('\\n')\n",
        "n=int(line[0])\n",
        "line=inp.readline()\n",
        "line=line.split('\\n')\n",
        "m=int(line[0])\n",
        "\n",
        "adjLst= defaultdict(list)\n",
        "\n",
        "for i in range(m):\n",
        "  line=inp.readline()\n",
        "  line=line.split('\\n')\n",
        "  line=line[0].split(' ')\n",
        "  u=int(line[0])\n",
        "  v=int(line[1])\n",
        "  adjLst[u].append(v)\n",
        "\n",
        "BFS(adjLst,1,n,n)\n",
        "DFS(adjLst,n)"
      ],
      "execution_count": null,
      "outputs": [
        {
          "output_type": "stream",
          "name": "stdout",
          "text": [
            "1 2 3 4 5 7 11 6 12 1 2 3 4 7 11 12 \n"
          ]
        }
      ]
    },
    {
      "cell_type": "code",
      "metadata": {
        "id": "BTCOSTjcN-ju"
      },
      "source": [
        "#task-2\n",
        "\n",
        "def BFS(adj,st,end,n):\n",
        "  vis =[0]*(n+1)\n",
        "  q=[]\n",
        "  q.append(st)\n",
        "  vis[st]=1\n",
        "\n",
        "  while len(q):\n",
        "    u=q[0]\n",
        "    q.pop(0)\n",
        "    out2.write(str(u))\n",
        "    print(u,end=' ')\n",
        "    if u == end:\n",
        "      out2.write('\\n')\n",
        "      break\n",
        "    for x in adj[u]:\n",
        "      if vis[x] == 0:\n",
        "        vis[x]=1\n",
        "        q.append(x)"
      ],
      "execution_count": null,
      "outputs": []
    },
    {
      "cell_type": "code",
      "metadata": {
        "id": "Zh5BnPx5VDKb"
      },
      "source": [
        "#Task-3\n",
        "VIS=[0]*(n+1)\n",
        "printed=[]\n",
        "def DFS_visit(adj,v):\n",
        "  #global VIS,printed\n",
        "  VIS[v]=1\n",
        "  printed.append(v)\n",
        "\n",
        "  for x in adj[v]:\n",
        "    if VIS[x] == 0:\n",
        "      DFS_visit(adj,x)\n",
        "def DFS(adj,en):\n",
        "  global VIS,n,printed\n",
        "  for i in range(n):\n",
        "    if VIS[i+1] == 0:\n",
        "      DFS_visit(adj,i+1)\n",
        "\n",
        "  for x in printed:\n",
        "        print(x,end=' ')\n",
        "        out3.write(str(x))\n",
        "        if x == en:\n",
        "          break\n",
        "  print()"
      ],
      "execution_count": null,
      "outputs": []
    },
    {
      "cell_type": "code",
      "metadata": {
        "id": "rnx87oTRYiTp",
        "colab": {
          "base_uri": "https://localhost:8080/"
        },
        "outputId": "a2d1cde7-2a26-43b5-bc61-5fabe561df3c"
      },
      "source": [
        "from collections import defaultdict\n",
        "\n",
        "Time=0\n",
        "endTime=[0]*(n+1)\n",
        "startTime=[0]*(n+1)\n",
        "vis=[0]*(n+1)\n",
        "\n",
        "inp=open('input_file.txt')\n",
        "line=inp.readline()\n",
        "line=line.split('\\n')\n",
        "n=int(line[0])\n",
        "line=inp.readline()\n",
        "line=line.split('\\n')\n",
        "m=int(line[0])\n",
        "\n",
        "adjLst= defaultdict(list)\n",
        "\n",
        "for i in range(m):\n",
        "  line=inp.readline()\n",
        "  line=line.split('\\n')\n",
        "  line=line[0].split(' ')\n",
        "  u=int(line[0])\n",
        "  v=int(line[1])\n",
        "  adjLst[u].append(v)\n",
        "\n",
        "#print(adjLst)\n",
        "topo=topologicalOrder(adjLst,n)\n",
        "#print(topo)\n",
        "t_adj=transpose(adjLst,n)\n",
        "#print(t_adj)\n",
        "cnt=connectedComponent(t_adj,n,topo)\n",
        "print(cnt)"
      ],
      "execution_count": null,
      "outputs": [
        {
          "output_type": "stream",
          "name": "stdout",
          "text": [
            "{16: 1, 15: 2, 14: 3, 13: 4, 10: 5, 9: 6, 8: 7, 7: 8}\n",
            "4\n"
          ]
        }
      ]
    },
    {
      "cell_type": "code",
      "metadata": {
        "id": "0bVRAkIKPeY3"
      },
      "source": [
        "\n",
        "def connectedComponent(t_adj,n,topo):\n",
        "  global vis\n",
        "  for i in range(n):\n",
        "    vis[i+1]=0\n",
        "  cnt=0\n",
        "  for x in topo:\n",
        "    if vis[x]==0:\n",
        "      cnt+=1\n",
        "      DFS(t_adj,x)\n",
        "  return cnt"
      ],
      "execution_count": null,
      "outputs": []
    },
    {
      "cell_type": "code",
      "metadata": {
        "id": "UrpBdOsjJK5U"
      },
      "source": [
        "def transpose(adj,n):\n",
        "  t_adj= defaultdict(list)\n",
        "  for i in range(n):\n",
        "    for x in adj[i+1]:\n",
        "      t_adj[x].append(i+1)\n",
        "  return t_adj"
      ],
      "execution_count": null,
      "outputs": []
    },
    {
      "cell_type": "code",
      "metadata": {
        "id": "JJBERj0TLAyI"
      },
      "source": [
        "def DFS(adj,v):\n",
        "  global vis,Time,startTime,endTime\n",
        "  vis[v]=1\n",
        "  Time+=1\n",
        "  startTime[v]=Time\n",
        "  for x in adj[v]:\n",
        "    if vis[x] == 0:\n",
        "      DFS(adj,x)\n",
        "  Time+=1\n",
        "  endTime[v]=Time\n",
        ""
      ],
      "execution_count": null,
      "outputs": []
    },
    {
      "cell_type": "code",
      "metadata": {
        "id": "BSWfByuyKPGQ"
      },
      "source": [
        "def topologicalOrder(adj,n):\n",
        "  global vis\n",
        "  for i in range(n):\n",
        "    if vis[i+1] == 0:\n",
        "      DFS(adj,i+1)\n",
        "  dict={}\n",
        "  for i in range(n):\n",
        "    dict[endTime[i+1]]=i+1\n",
        "  print(dict)\n",
        "  #sorted(dict.items(), key=lambda x: x[1], reverse=True)\n",
        "  #print(dict)\n",
        "  items=dict.items()\n",
        "  sorteditems=sorted(items,reverse=True)\n",
        "  topo=[]\n",
        "  for val in dict.values():\n",
        "    topo.append(val)\n",
        "  return topo"
      ],
      "execution_count": null,
      "outputs": []
    },
    {
      "cell_type": "code",
      "metadata": {
        "id": "LZ6wZHP3vemj"
      },
      "source": [
        "def Heapify(A,cost,i,l):\n",
        "  L=i*2\n",
        "  R=i*2+1\n",
        "  smallest=i\n",
        "  if L<=l and cost[A[L]] < cost[A[i]]:\n",
        "    smallest=L\n",
        "  if R<=l and cost[A[R]] < cost[A[smallest]]:\n",
        "    smallest=R\n",
        "\n",
        "  if smallest != i:\n",
        "    A[i],A[smallest]=A[smallest],A[i]\n",
        "    Heapify(A,cost,smallest,l)\n",
        "\n",
        "def Swim(A,cost,i):\n",
        "  if i==1:\n",
        "    return\n",
        "  par=i//2\n",
        "  if cost[A[i]] < cost[A[par]]:\n",
        "    A[i],A[par]=A[par],A[i]\n",
        "    Swim(A,cost,par)"
      ],
      "execution_count": null,
      "outputs": []
    },
    {
      "cell_type": "code",
      "metadata": {
        "id": "FJdq6fQc1yOK"
      },
      "source": [
        "def dijkstra(adj,n,st):\n",
        "  pq=[0]*(2*n)\n",
        "  cost=[1000 for i in range(n+1)]\n",
        "  cost[st]=0\n",
        "  pq[1]=st;\n",
        "  l=1\n",
        "  while l>0:\n",
        "    u=pq[1]\n",
        "    pq[1],pq[l]=pq[l],pq[1]\n",
        "    l-=1\n",
        "    Heapify(pq,cost,1,l)\n",
        "    for x in adj[u]:\n",
        "      v=x[0]\n",
        "      c=x[1]\n",
        "      if cost[u]+c < cost[v]:\n",
        "        cost[v]=cost[u]+c\n",
        "        l+=1\n",
        "        pq[l]=v\n",
        "        Swim(pq,cost,l)\n",
        "  return cost"
      ],
      "execution_count": null,
      "outputs": []
    },
    {
      "cell_type": "code",
      "metadata": {
        "colab": {
          "base_uri": "https://localhost:8080/"
        },
        "id": "j7wEjq5X16SG",
        "outputId": "b1d9f3ad-6de9-4bdd-af6e-15f741855553"
      },
      "source": [
        "from collections import defaultdict\n",
        "n=6\n",
        "adj= defaultdict(list)\n",
        "adj[1].append( (2,2) )\n",
        "adj[1].append( (4,1) )\n",
        "adj[2].append( (1,2) )\n",
        "adj[2].append( (3,2) )\n",
        "adj[3].append( (2,2) )\n",
        "adj[3].append( (5,3) )\n",
        "adj[4].append( (4,1) )\n",
        "adj[4].append( (5,1) )\n",
        "adj[4].append( (6,3) )\n",
        "adj[5].append( (3,3) )\n",
        "adj[5].append( (4,1) )\n",
        "adj[5].append( (6,2) )\n",
        "adj[6].append( (4,3) )\n",
        "adj[6].append( (5,2) )\n",
        "cost=dijkstra(adj,n,1)\n",
        "cost"
      ],
      "execution_count": null,
      "outputs": [
        {
          "output_type": "execute_result",
          "data": {
            "text/plain": [
              "[1000, 0, 2, 4, 1, 2, 4]"
            ]
          },
          "metadata": {},
          "execution_count": 18
        }
      ]
    },
    {
      "cell_type": "code",
      "metadata": {
        "id": "vhmh2oLQ_i2_"
      },
      "source": [
        "def Heapify(A,cost,i,l):\n",
        "  L=i*2\n",
        "  R=i*2+1\n",
        "  smallest=i\n",
        "  if L<=l and cost[A[L]] < cost[A[i]]:\n",
        "    smallest=L\n",
        "  if R<=l and cost[A[R]] < cost[A[smallest]]:\n",
        "    smallest=R\n",
        "\n",
        "  if smallest != i:\n",
        "    A[i],A[smallest]=A[smallest],A[i]\n",
        "    Heapify(A,cost,smallest,l)\n",
        "\n",
        "def Swim(A,cost,i):\n",
        "  if i==1:\n",
        "    return\n",
        "  par=i//2\n",
        "  if cost[A[i]] < cost[A[par]]:\n",
        "    A[i],A[par]=A[par],A[i]\n",
        "    Swim(A,cost,par)"
      ],
      "execution_count": null,
      "outputs": []
    },
    {
      "cell_type": "code",
      "metadata": {
        "id": "bO_4B9un_3uj"
      },
      "source": [
        "def prims(adj,n):\n",
        "  tree= defaultdict(list)\n",
        "  Cst=0\n",
        "  pq=[(0,0)]*(100)\n",
        "  l=0;\n",
        "  cost=[100 for i in range(100)]\n",
        "  vis=[0]*(n+1)\n",
        "  vis[1]=1\n",
        "  for x in adj[1]:\n",
        "    l+=1\n",
        "    pq[l]=(1,x[0])\n",
        "    cost[l]=x[1]\n",
        "  while l>0:\n",
        "    x=pq[1]\n",
        "    c=cost[1]\n",
        "    pq[1],pq[l]=pq[l],pq[1]\n",
        "    l-=1\n",
        "    Heapify(pq,cost,1,l)\n",
        "    tree[ x[0] ].append( (x[1],c) )\n",
        "    tree[ x[1] ].append( (x[0],c) )\n",
        "    Cst+=c\n",
        "    vis[ x[0] ]=1\n",
        "    vis[ x[1] ]=1\n",
        "\n"
      ],
      "execution_count": null,
      "outputs": []
    },
    {
      "cell_type": "code",
      "source": [],
      "metadata": {
        "id": "moZNTeohFPR9"
      },
      "execution_count": null,
      "outputs": []
    }
  ]
}