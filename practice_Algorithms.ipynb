{
  "nbformat": 4,
  "nbformat_minor": 0,
  "metadata": {
    "colab": {
      "provenance": []
    },
    "kernelspec": {
      "name": "python3",
      "display_name": "Python 3"
    },
    "language_info": {
      "name": "python"
    }
  },
  "cells": [
    {
      "cell_type": "code",
      "execution_count": null,
      "metadata": {
        "id": "enUdHzN7mL1a"
      },
      "outputs": [],
      "source": [
        "#Binary Search\n",
        "def binarysearch (array, target):\n",
        "  l = len(array)\n",
        "  L = 0\n",
        "  R = l-1\n",
        "  while L <= R:\n",
        "     M = (L+R)//2\n",
        "     if array[M] == target:\n",
        "       print(\"The target is in index\", M)\n",
        "       break\n",
        "     elif array[M] < target:\n",
        "       L = M+1\n",
        "     else:\n",
        "       R = M-1\n",
        "  if L > R:\n",
        "    print(\"Invalid Input\")\n",
        ""
      ]
    },
    {
      "cell_type": "code",
      "source": [
        "arr = [ 1, 2, 3, 4, 5, 6, 7, 8, 9, 10 ]\n",
        "binarysearch(arr, 7)"
      ],
      "metadata": {
        "colab": {
          "base_uri": "https://localhost:8080/"
        },
        "id": "YeAkIBc9KGk4",
        "outputId": "365ff9fb-f4fc-4279-a4e8-3954160add89"
      },
      "execution_count": null,
      "outputs": [
        {
          "output_type": "stream",
          "name": "stdout",
          "text": [
            "The target is in index 6\n"
          ]
        }
      ]
    },
    {
      "cell_type": "code",
      "source": [
        "#Linear sort\n",
        "def linearsort(array):\n",
        "  l = len(array)\n",
        "  for i in range(l):\n",
        "    for j in range(l):\n",
        "      if array[i] < array[j]:\n",
        "        array[i], array[j] = array[j], array[i]\n",
        "  return array"
      ],
      "metadata": {
        "id": "fTtGSuB4mhGJ"
      },
      "execution_count": null,
      "outputs": []
    },
    {
      "cell_type": "code",
      "source": [
        "arr = [20, 5, 10, 2]\n",
        "linearsort(arr)"
      ],
      "metadata": {
        "colab": {
          "base_uri": "https://localhost:8080/"
        },
        "id": "TFayqR0gKoT4",
        "outputId": "33bac4c1-0174-4e50-f273-9f3db29265d3"
      },
      "execution_count": null,
      "outputs": [
        {
          "output_type": "execute_result",
          "data": {
            "text/plain": [
              "[2, 5, 10, 20]"
            ]
          },
          "metadata": {},
          "execution_count": 11
        }
      ]
    },
    {
      "cell_type": "code",
      "source": [
        "#selection sort\n",
        "def selectionsort(array):\n",
        "  l = len(array)\n",
        "  for i in range(l-1):\n",
        "    min = i\n",
        "    for j in range(i+1, l):\n",
        "      if array[min] > array[j]:\n",
        "        min = j\n",
        "    array[i], array[min] = array[min], array[i]\n",
        "\n",
        "  return arr"
      ],
      "metadata": {
        "id": "UHuutHrqozLR"
      },
      "execution_count": null,
      "outputs": []
    },
    {
      "cell_type": "code",
      "source": [
        "arr = [20, 5, 10, 2]\n",
        "selectionsort(arr)"
      ],
      "metadata": {
        "colab": {
          "base_uri": "https://localhost:8080/"
        },
        "id": "GB5huffg3nn0",
        "outputId": "7e71d896-b2fd-457f-cc01-0f2a8352dd4c"
      },
      "execution_count": null,
      "outputs": [
        {
          "output_type": "execute_result",
          "data": {
            "text/plain": [
              "[2, 5, 10, 20]"
            ]
          },
          "metadata": {},
          "execution_count": 4
        }
      ]
    },
    {
      "cell_type": "code",
      "source": [
        "#Bubble sort\n",
        "def bubblesort(array):\n",
        "  l = len(array)\n",
        "  for i in range(l-1):\n",
        "    for j in range(l-1-i):\n",
        "      if j+1 < l and array[j] > array[j+1]:\n",
        "        array[j], array[j+1] = array[j+1], array[j]\n",
        "  return array\n"
      ],
      "metadata": {
        "id": "avTPO0K5341d"
      },
      "execution_count": null,
      "outputs": []
    },
    {
      "cell_type": "code",
      "source": [
        "array = [20, 5, 10, 2]\n",
        "bubblesort(array)"
      ],
      "metadata": {
        "colab": {
          "base_uri": "https://localhost:8080/"
        },
        "id": "Kh3URswGu87P",
        "outputId": "b1214bfc-f883-4c86-ca1d-9556329f8e76"
      },
      "execution_count": null,
      "outputs": [
        {
          "output_type": "execute_result",
          "data": {
            "text/plain": [
              "[2, 5, 10, 20]"
            ]
          },
          "metadata": {},
          "execution_count": 13
        }
      ]
    },
    {
      "cell_type": "code",
      "source": [
        "#Insertion sort\n",
        "def insertionsort(array):\n",
        "  l = len(array)\n",
        "  for i in range(1,l-1):\n",
        "    key = array[i]\n",
        "    j = i-1\n",
        "    while j >= 0 and array[j] > key:\n",
        "      array[j+1] = array[j]\n",
        "      j -= 1\n",
        "    array[j+1] = key\n",
        "  return array"
      ],
      "metadata": {
        "id": "4vvFB692wBoK"
      },
      "execution_count": null,
      "outputs": []
    },
    {
      "cell_type": "code",
      "source": [
        "array = [20, 2, 30, 0, 100]\n",
        "insertionsort(array)"
      ],
      "metadata": {
        "colab": {
          "base_uri": "https://localhost:8080/"
        },
        "id": "eEaCx9K42kTr",
        "outputId": "695e9e88-4dfb-48f6-c1c5-22dc4a4d9560"
      },
      "execution_count": null,
      "outputs": [
        {
          "output_type": "execute_result",
          "data": {
            "text/plain": [
              "[0, 2, 20, 30, 100]"
            ]
          },
          "metadata": {},
          "execution_count": 7
        }
      ]
    },
    {
      "cell_type": "code",
      "source": [
        "#Merge sort\n",
        "def mergesort(array):\n",
        "  l = len(array)\n",
        "  if l > 1:\n",
        "   m = l//2\n",
        "   L = array[0:m]\n",
        "   R = array[m:]\n",
        "   i = j = k = 0\n",
        "   while i < len(L) and j < len(R):\n",
        "    if L[i] < R[j]:\n",
        "      array[k] = L[i]\n",
        "      i += 1\n",
        "      k += 1\n",
        "    else:\n",
        "        array[k] = R[j]\n",
        "        j += 1\n",
        "        k += 1\n",
        "   while i < len(L):\n",
        "      array[k] = L[i]\n",
        "      i += 1\n",
        "      k += 1\n",
        "   while j < len(R):\n",
        "      array[k] = R[j]\n",
        "      j += 1\n",
        "      k += 1\n",
        "  return array\n",
        "\n",
        ""
      ],
      "metadata": {
        "id": "W9BDgV2E2w5b"
      },
      "execution_count": null,
      "outputs": []
    },
    {
      "cell_type": "code",
      "source": [
        "arr = [12, 11, 13, 5, 6, 7]\n",
        "print(mergesort(arr))"
      ],
      "metadata": {
        "colab": {
          "base_uri": "https://localhost:8080/"
        },
        "id": "rcF5A50jQiwC",
        "outputId": "ce6e9bc1-454e-42c1-f610-7629a12115b2"
      },
      "execution_count": null,
      "outputs": [
        {
          "output_type": "stream",
          "name": "stdout",
          "text": [
            "[5, 6, 7, 12, 11, 13]\n"
          ]
        }
      ]
    },
    {
      "cell_type": "code",
      "source": [
        "#Quick sort\n",
        "def partition(array, start, end):\n",
        "  pivot = array[start]\n",
        "  low = start+1\n",
        "  high = end\n",
        "  while True:\n",
        "\n",
        "     while low <= high and array[high] >= pivot:\n",
        "       high = high -1\n",
        "     while low <= high and array[low] <= pivot:\n",
        "       low = low +1\n",
        "     if low <= high:\n",
        "       array[low], array[high] = array[high], array[low]\n",
        "     else:\n",
        "       break\n",
        "  array[start], array [high] =   array [high], array[start]\n",
        "  return high\n",
        "\n",
        "def quicksort(array, start, end):\n",
        "    if start >= end:\n",
        "      return\n",
        "    p = partition(array, start, end)\n",
        "    quicksort(array, start, p-1)\n",
        "    quicksort(array, p+1, end)\n"
      ],
      "metadata": {
        "id": "AZm45OCKQxub"
      },
      "execution_count": null,
      "outputs": []
    },
    {
      "cell_type": "code",
      "source": [
        " array = [5,3,1,9,8,2,4,7]\n",
        "\n",
        "quicksort(array, 0, len(array) - 1)\n",
        "print(array)"
      ],
      "metadata": {
        "colab": {
          "base_uri": "https://localhost:8080/"
        },
        "id": "R7MrjlK6g81f",
        "outputId": "1bb229ea-a954-4c66-c77a-b7e8782df2cc"
      },
      "execution_count": null,
      "outputs": [
        {
          "output_type": "stream",
          "name": "stdout",
          "text": [
            "[1, 2, 3, 4, 5, 7, 8, 9]\n"
          ]
        }
      ]
    },
    {
      "cell_type": "code",
      "source": [
        "#Ternary Search\n",
        "def ternarysearch(left, right, key, array):\n",
        "  if (right >= left):\n",
        "    mid1 = left+(right-left)//3\n",
        "    mid2 = right-(right-left)//3\n",
        "\n",
        "    if (array[mid1] == key):\n",
        "      return mid1\n",
        "\n",
        "    if (array[mid2] == key):\n",
        "      return mid2\n",
        "\n",
        "    if (key < array[mid1]):\n",
        "      return ternarysearch( left, mid1 - 1, key, array)\n",
        "\n",
        "    elif (key > array[mid2]):\n",
        "      return ternarysearch(mid2 + 1, right, key, array)\n",
        "\n",
        "    else:\n",
        "      return ternarysearch(mid1 + 1,\n",
        "                           mid2 - 1, key, array)\n",
        "\n",
        "  return \"Key is not found\"\n"
      ],
      "metadata": {
        "id": "QjuwJ5W2hxpj"
      },
      "execution_count": null,
      "outputs": []
    },
    {
      "cell_type": "code",
      "source": [
        "l, r, p = 0, 9, 5\n",
        "ar = [ 1, 2, 3, 4, 5, 6, 7, 8, 9, 10 ]\n",
        "key = 7\n",
        "p = ternarysearch(l, r, key, ar)\n",
        "print(\"Index of\", key, \"is\", p)"
      ],
      "metadata": {
        "colab": {
          "base_uri": "https://localhost:8080/"
        },
        "id": "i9LGy-YVVEWg",
        "outputId": "885444e5-2826-4646-b12e-682f479c28f4"
      },
      "execution_count": null,
      "outputs": [
        {
          "output_type": "stream",
          "name": "stdout",
          "text": [
            "Index of 7 is 6\n"
          ]
        }
      ]
    },
    {
      "cell_type": "code",
      "source": [],
      "metadata": {
        "id": "O4M8FEodc1O0"
      },
      "execution_count": null,
      "outputs": []
    }
  ]
}