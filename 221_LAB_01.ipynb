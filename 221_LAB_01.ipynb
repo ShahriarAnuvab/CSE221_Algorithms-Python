{
  "nbformat": 4,
  "nbformat_minor": 0,
  "metadata": {
    "colab": {
      "provenance": []
    },
    "kernelspec": {
      "name": "python3",
      "display_name": "Python 3"
    },
    "language_info": {
      "name": "python"
    }
  },
  "cells": [
    {
      "cell_type": "code",
      "metadata": {
        "id": "-l_1NjMXxuXe"
      },
      "source": [
        "input=open('LAb1input.txt')\n",
        "out=open('output.txt','w')\n",
        "record=open('record.txt','w')"
      ],
      "execution_count": null,
      "outputs": []
    },
    {
      "cell_type": "code",
      "metadata": {
        "id": "xLrP_j1g5N8G"
      },
      "source": [
        "def Palindrome(A):\n",
        "  l= len(A)\n",
        "  if l == 0:\n",
        "    return False\n",
        "  i = 0\n",
        "  j = l-1\n",
        "  while i<j:\n",
        "    if A[i] == A[j]:\n",
        "      i+=1\n",
        "      j-=1\n",
        "    else:\n",
        "      return False\n",
        "  return True"
      ],
      "execution_count": null,
      "outputs": []
    },
    {
      "cell_type": "code",
      "metadata": {
        "id": "mH18--UI0B-V"
      },
      "source": [
        "oddparity=0\n",
        "evenparity=0\n",
        "noparity=0\n",
        "palindrome=0\n",
        "nonpalindrome=0"
      ],
      "execution_count": null,
      "outputs": []
    },
    {
      "cell_type": "code",
      "metadata": {
        "colab": {
          "base_uri": "https://localhost:8080/"
        },
        "id": "8EikU5cm2FM3",
        "outputId": "028f1873-84a7-4b21-df4d-523b7e395c15"
      },
      "source": [
        "lst=input.readlines()\n",
        "for x in lst:\n",
        "  tmp=x.split(' ')\n",
        "  tmp1=tmp[1].split('\\n')\n",
        "  nm=tmp[0]\n",
        "  st=tmp1[0]\n",
        "  line=''\n",
        "  if '.' in nm:\n",
        "    noparity+=1\n",
        "    line=nm+' cannot have parity and '\n",
        "  else:\n",
        "    nm=int(nm)\n",
        "    if nm%2 == 0:\n",
        "      evenparity+=1\n",
        "      line=str(nm)+' has even parity and '\n",
        "    else:\n",
        "      oddparity+=1\n",
        "      line=str(nm)+' has odd parity and '\n",
        "\n",
        "  if Palindrome(st):\n",
        "    line=line + st+' is a palindrome\\n'\n",
        "    palindrome+=1\n",
        "  else:\n",
        "    line=line + st+' is not a palindrome\\n'\n",
        "    nonpalindrome+=1\n",
        "  out.write(line)\n",
        "tot=oddparity+evenparity+noparity\n",
        "oddper=(oddparity*100.00)/tot\n",
        "evenper=(evenparity*100.00)/tot\n",
        "noper=(noparity*100.00)/tot\n",
        "\n",
        "tot=palindrome+nonpalindrome\n",
        "palper=(palindrome*100.00)/tot\n",
        "nopalper=(nonpalindrome*100.00)/tot\n",
        "\n",
        "record.write('Percentage of odd parity: '+str(oddper)+'%'+'\\n')\n",
        "\n",
        "record.write('Percentage of even parity: '+str(evenper)+'%'+'\\n')\n",
        "\n",
        "record.write('Percentage of no parity: '+str(noper)+'%'+'\\n')\n",
        "\n",
        "record.write('Percentage of palindrome: '+str(palper)+'%'+'\\n')\n",
        "\n",
        "record.write('Percentage of non-palindrome: '+str(nopalper)+'%'+'\\n')\n",
        "\n"
      ],
      "execution_count": null,
      "outputs": [
        {
          "output_type": "execute_result",
          "data": {
            "text/plain": [
              "36"
            ]
          },
          "metadata": {},
          "execution_count": 10
        }
      ]
    },
    {
      "cell_type": "code",
      "metadata": {
        "colab": {
          "base_uri": "https://localhost:8080/"
        },
        "id": "WcLlmV4qKRLr",
        "outputId": "d9adbe11-827b-49c8-f622-626cf7058657"
      },
      "source": [
        "#2\n",
        "def fibonacci_1(n):\n",
        "  if n <= 0:\n",
        "    print(\"Invalid input!\")\n",
        "  elif n <= 2:\n",
        "    return n-1\n",
        "  else:\n",
        "    return fibonacci_1(n-1)+fibonacci_1(n-2)\n",
        "\n",
        "\n",
        "f = 2\n",
        "nth_fib = fibonacci_1(f)\n",
        "print(\"The %d-th fibonacci number is %d\" % (f, nth_fib))\n",
        "\n",
        "\n"
      ],
      "execution_count": null,
      "outputs": [
        {
          "output_type": "stream",
          "name": "stdout",
          "text": [
            "The 2-th fibonacci number is 1\n"
          ]
        }
      ]
    },
    {
      "cell_type": "code",
      "metadata": {
        "colab": {
          "base_uri": "https://localhost:8080/",
          "height": 231
        },
        "id": "3zzXVgNWKp28",
        "outputId": "f70a9cf1-e077-40fe-c974-1cd4e2a0b070"
      },
      "source": [
        "def fibonacci_2(n):\n",
        "  fibonacci_array = [0,1]\n",
        "  if n < 0:\n",
        "    print(\"Invalid input!\")\n",
        "  elif n <= 2:\n",
        "    return fibonacci_array[n-1]\n",
        "  else:\n",
        "    for i in range(2,n):\n",
        "      fibonacci_array.append(fibonacci_array[i-1] + fibonacci_array[i-2])\n",
        "  return fibonacci_array[-1]\n",
        "\n",
        "\n",
        "n = int(input(\"Enter a number: \"))\n",
        "nth_fib = fibonacci_2(n)\n",
        "print(\"The %d-th fibonacci number is %d\" % (n, nth_fib))"
      ],
      "execution_count": null,
      "outputs": [
        {
          "output_type": "error",
          "ename": "TypeError",
          "evalue": "ignored",
          "traceback": [
            "\u001b[0;31m---------------------------------------------------------------------------\u001b[0m",
            "\u001b[0;31mTypeError\u001b[0m                                 Traceback (most recent call last)",
            "\u001b[0;32m<ipython-input-19-7e40f8c91cb7>\u001b[0m in \u001b[0;36m<module>\u001b[0;34m()\u001b[0m\n\u001b[1;32m     11\u001b[0m \u001b[0;34m\u001b[0m\u001b[0m\n\u001b[1;32m     12\u001b[0m \u001b[0;34m\u001b[0m\u001b[0m\n\u001b[0;32m---> 13\u001b[0;31m \u001b[0mn\u001b[0m \u001b[0;34m=\u001b[0m \u001b[0mint\u001b[0m\u001b[0;34m(\u001b[0m\u001b[0minput\u001b[0m\u001b[0;34m(\u001b[0m\u001b[0;34m\"Enter a number: \"\u001b[0m\u001b[0;34m)\u001b[0m\u001b[0;34m)\u001b[0m\u001b[0;34m\u001b[0m\u001b[0;34m\u001b[0m\u001b[0m\n\u001b[0m\u001b[1;32m     14\u001b[0m \u001b[0mnth_fib\u001b[0m \u001b[0;34m=\u001b[0m \u001b[0mfibonacci_2\u001b[0m\u001b[0;34m(\u001b[0m\u001b[0mn\u001b[0m\u001b[0;34m)\u001b[0m\u001b[0;34m\u001b[0m\u001b[0;34m\u001b[0m\u001b[0m\n\u001b[1;32m     15\u001b[0m \u001b[0mprint\u001b[0m\u001b[0;34m(\u001b[0m\u001b[0;34m\"The %d-th fibonacci number is %d\"\u001b[0m \u001b[0;34m%\u001b[0m \u001b[0;34m(\u001b[0m\u001b[0mn\u001b[0m\u001b[0;34m,\u001b[0m \u001b[0mnth_fib\u001b[0m\u001b[0;34m)\u001b[0m\u001b[0;34m)\u001b[0m\u001b[0;34m\u001b[0m\u001b[0;34m\u001b[0m\u001b[0m\n",
            "\u001b[0;31mTypeError\u001b[0m: '_io.TextIOWrapper' object is not callable"
          ]
        }
      ]
    },
    {
      "cell_type": "code",
      "metadata": {
        "colab": {
          "base_uri": "https://localhost:8080/",
          "height": 295
        },
        "id": "-ewHhmRmNuzJ",
        "outputId": "32a8da0b-1178-402b-fa7c-a378d803f365"
      },
      "source": [
        "import time\n",
        "import math\n",
        "import matplotlib.pyplot as plt\n",
        "import numpy as np\n",
        "#change the value of n for your own experimentation\n",
        "n = 15\n",
        "x = [i for i in range(n)]\n",
        "y = [0 for i in range(n)] #RECURSIVE CALL\n",
        "z = [0 for i in range(n)] #LOOP\n",
        "\n",
        "for i in range(n-1):\n",
        "\n",
        "  start = time.time()\n",
        "  fibonacci_1(x[i+1])\n",
        "  y[i+1]= time.time()-start\n",
        "\n",
        "  start = time.time()\n",
        "  fibonacci_2(x[i+1])\n",
        "  z[i+1]= time.time()-start\n",
        "\n",
        "x_interval = math.ceil(n/10)\n",
        "plt.plot(x, y, 'r')\n",
        "plt.plot(x, z, 'b')\n",
        "plt.xticks(np.arange(min(x), max(x)+1, x_interval))\n",
        "plt.xlabel('n-th position')\n",
        "plt.ylabel('time')\n",
        "plt.title('Comparing Time Complexity!')\n",
        "plt.show()"
      ],
      "execution_count": null,
      "outputs": [
        {
          "output_type": "display_data",
          "data": {
            "image/png": "[encoded data removed]",
            "text/plain": [
              "<Figure size 432x288 with 1 Axes>"
            ]
          },
          "metadata": {
            "needs_background": "light"
          }
        }
      ]
    },
    {
      "cell_type": "code",
      "metadata": {
        "colab": {
          "base_uri": "https://localhost:8080/",
          "height": 500
        },
        "id": "ovoieA0b78pf",
        "outputId": "66a85a39-41ad-4480-b28d-714108bd448e"
      },
      "source": [
        "import time\n",
        "import math\n",
        "import matplotlib.pyplot as plt\n",
        "import numpy as np\n",
        "n=20\n",
        "x=[i for i in range(n)]\n",
        "tpn=[pow(2,i) for i in range(n)]\n",
        "lgn=[np.log2(i) for i in range(n)]\n",
        "lglgn=[np.log2(np.log2(i)) for i in range(n)]\n",
        "nsq=[ i*i for i in range(n)]\n",
        "an=[ i for i in range(n)]\n",
        "rtn=[ math.sqrt(i) for i in range(n)]\n",
        "#nfact=[ math.factorial(i) for i in range(n)]\n",
        "nqb=[ i*i*i for i in range(n)]\n",
        "np3b2=[pow(i,1.5) for i in range(n)]\n",
        "nlgn=[i*(np.log2(i)) for i in range(n)]\n",
        "nsqlgn=[i*i*(np.log2(i)) for i in range(n)]\n",
        "E=[pow(math.e,i+1) for i in range(n)]\n",
        "\n",
        "plt.plot(x,tpn, 'r')\n",
        "plt.plot(x, lgn, 'b')\n",
        "\n",
        "plt.plot(x,lglgn, 'g')\n",
        "plt.plot(x, nsq, 'y')\n",
        "\n",
        "plt.plot(x,an, 'r*')\n",
        "plt.plot(x, rtn, 'b*')\n",
        "\n",
        "plt.plot(x,nfact, 'g*')\n",
        "plt.plot(x, nqb, 'y*')\n",
        "\n",
        "plt.plot(x,np3b2, 'b')\n",
        "plt.plot(x, nlgn, 'b*')\n",
        "\n",
        "plt.plot(x,nsqlgn, 'p')\n",
        "plt.plot(x, E, 'b--')\n",
        "plt.show()"
      ],
      "execution_count": null,
      "outputs": [
        {
          "output_type": "stream",
          "name": "stderr",
          "text": [
            "/usr/local/lib/python3.7/dist-packages/ipykernel_launcher.py:8: RuntimeWarning: divide by zero encountered in log2\n",
            "  \n",
            "/usr/local/lib/python3.7/dist-packages/ipykernel_launcher.py:9: RuntimeWarning: divide by zero encountered in log2\n",
            "  if __name__ == '__main__':\n",
            "/usr/local/lib/python3.7/dist-packages/ipykernel_launcher.py:9: RuntimeWarning: invalid value encountered in log2\n",
            "  if __name__ == '__main__':\n",
            "/usr/local/lib/python3.7/dist-packages/ipykernel_launcher.py:16: RuntimeWarning: divide by zero encountered in log2\n",
            "  app.launch_new_instance()\n",
            "/usr/local/lib/python3.7/dist-packages/ipykernel_launcher.py:16: RuntimeWarning: invalid value encountered in double_scalars\n",
            "  app.launch_new_instance()\n",
            "/usr/local/lib/python3.7/dist-packages/ipykernel_launcher.py:17: RuntimeWarning: divide by zero encountered in log2\n",
            "/usr/local/lib/python3.7/dist-packages/ipykernel_launcher.py:17: RuntimeWarning: invalid value encountered in double_scalars\n"
          ]
        },
        {
          "output_type": "display_data",
          "data": {
            "image/png": "[encoded data removed]",
            "text/plain": [
              "<Figure size 432x288 with 1 Axes>"
            ]
          },
          "metadata": {
            "needs_background": "light"
          }
        }
      ]
    },
    {
      "cell_type": "code",
      "metadata": {
        "colab": {
          "base_uri": "https://localhost:8080/",
          "height": 163
        },
        "id": "sjcSP5WFqdFO",
        "outputId": "01024899-74e2-490a-bd3c-4aa61d1a28ae"
      },
      "source": [
        "input1= open(\"Matrix1.txt\")\n",
        "input2 = open(\"Matrix2.txt\")\n"
      ],
      "execution_count": null,
      "outputs": [
        {
          "output_type": "error",
          "ename": "FileNotFoundError",
          "evalue": "ignored",
          "traceback": [
            "\u001b[0;31m---------------------------------------------------------------------------\u001b[0m",
            "\u001b[0;31mFileNotFoundError\u001b[0m                         Traceback (most recent call last)",
            "\u001b[0;32m<ipython-input-1-4b7b3acbd67c>\u001b[0m in \u001b[0;36m<module>\u001b[0;34m()\u001b[0m\n\u001b[0;32m----> 1\u001b[0;31m \u001b[0mopen\u001b[0m\u001b[0;34m(\u001b[0m\u001b[0;34m\"Matrix1.txt\"\u001b[0m\u001b[0;34m)\u001b[0m\u001b[0;34m\u001b[0m\u001b[0;34m\u001b[0m\u001b[0m\n\u001b[0m",
            "\u001b[0;31mFileNotFoundError\u001b[0m: [Errno 2] No such file or directory: 'Matrix1.txt'"
          ]
        }
      ]
    },
    {
      "cell_type": "code",
      "metadata": {
        "id": "oF1ZyJ7Kq9O3"
      },
      "source": [
        "def matrixmultiplication(A,B,n):\n",
        "  C = [[0]*n]*n\n",
        "  for r in range(n):\n",
        "    for c in range(n):\n",
        "      sum= 0\n",
        "      for i in range(n):\n",
        "        m = A[r][i]*B[i][c]\n",
        "        sum += m\n",
        "      C[r][c] = sum\n",
        "\n",
        "  return C"
      ],
      "execution_count": null,
      "outputs": []
    },
    {
      "cell_type": "code",
      "metadata": {
        "colab": {
          "base_uri": "https://localhost:8080/"
        },
        "id": "JtAAa6nlsVdn",
        "outputId": "190e87cf-f377-4865-bc31-d268cf6bba11"
      },
      "source": [
        "A = [[1, 2], [2, 1]]\n",
        "B = [[3, 2], [7, 5]]\n",
        "C = matrixmultiplication(A, B, 2)\n",
        "for i in range(2):\n",
        "  for j in range(2):\n",
        "    print(C[i][j])"
      ],
      "execution_count": null,
      "outputs": [
        {
          "output_type": "stream",
          "name": "stdout",
          "text": [
            "13\n",
            "9\n",
            "13\n",
            "9\n"
          ]
        }
      ]
    },
    {
      "cell_type": "code",
      "metadata": {
        "id": "t1NAhKnptEGp",
        "colab": {
          "base_uri": "https://localhost:8080/",
          "height": 197
        },
        "outputId": "63f46daf-b5c2-4832-da48-c88fba8398f9"
      },
      "source": [
        "import numpy\n",
        "import math\n",
        "numpy.log2(32)\n",
        "math.sqrt(20)\n",
        "math.factorial(6)\n",
        "math.e(2)"
      ],
      "execution_count": null,
      "outputs": [
        {
          "output_type": "error",
          "ename": "TypeError",
          "evalue": "ignored",
          "traceback": [
            "\u001b[0;31m---------------------------------------------------------------------------\u001b[0m",
            "\u001b[0;31mTypeError\u001b[0m                                 Traceback (most recent call last)",
            "\u001b[0;32m<ipython-input-14-71c23a128ac4>\u001b[0m in \u001b[0;36m<module>\u001b[0;34m()\u001b[0m\n\u001b[1;32m      4\u001b[0m \u001b[0mmath\u001b[0m\u001b[0;34m.\u001b[0m\u001b[0msqrt\u001b[0m\u001b[0;34m(\u001b[0m\u001b[0;36m20\u001b[0m\u001b[0;34m)\u001b[0m\u001b[0;34m\u001b[0m\u001b[0;34m\u001b[0m\u001b[0m\n\u001b[1;32m      5\u001b[0m \u001b[0mmath\u001b[0m\u001b[0;34m.\u001b[0m\u001b[0mfactorial\u001b[0m\u001b[0;34m(\u001b[0m\u001b[0;36m6\u001b[0m\u001b[0;34m)\u001b[0m\u001b[0;34m\u001b[0m\u001b[0;34m\u001b[0m\u001b[0m\n\u001b[0;32m----> 6\u001b[0;31m \u001b[0mmath\u001b[0m\u001b[0;34m.\u001b[0m\u001b[0me\u001b[0m\u001b[0;34m(\u001b[0m\u001b[0;36m2.0\u001b[0m\u001b[0;34m)\u001b[0m\u001b[0;34m\u001b[0m\u001b[0;34m\u001b[0m\u001b[0m\n\u001b[0m",
            "\u001b[0;31mTypeError\u001b[0m: 'float' object is not callable"
          ]
        }
      ]
    }
  ]
}