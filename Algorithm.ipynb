{
  "nbformat": 4,
  "nbformat_minor": 0,
  "metadata": {
    "colab": {
      "provenance": []
    },
    "kernelspec": {
      "name": "python3",
      "display_name": "Python 3"
    },
    "language_info": {
      "name": "python"
    }
  },
  "cells": [
    {
      "cell_type": "code",
      "execution_count": null,
      "metadata": {
        "id": "enUdHzN7mL1a"
      },
      "outputs": [],
      "source": [
        "#Binary Search\n",
        "def binarysearch (array, target):\n",
        "  l = len(array)\n",
        "  L = 0\n",
        "  R = l-1\n",
        "  while L <= R:\n",
        "     M = (L+R)//2\n",
        "     if array[M] == target:\n",
        "       print(\"The target is in index\", M)\n",
        "       break\n",
        "     elif array[M] < target:\n",
        "       L = M+1\n",
        "     else:\n",
        "       R = M-1\n",
        "  if L > R:\n",
        "    print(\"Invalid Input\")\n",
        ""
      ]
    },
    {
      "cell_type": "code",
      "source": [
        "arr = [ 1, 2, 3, 4, 5, 6, 7, 8, 9, 10 ]\n",
        "binarysearch(arr, 7)"
      ],
      "metadata": {
        "colab": {
          "base_uri": "https://localhost:8080/"
        },
        "id": "YeAkIBc9KGk4",
        "outputId": "365ff9fb-f4fc-4279-a4e8-3954160add89"
      },
      "execution_count": null,
      "outputs": [
        {
          "output_type": "stream",
          "name": "stdout",
          "text": [
            "The target is in index 6\n"
          ]
        }
      ]
    },
    {
      "cell_type": "code",
      "source": [
        "#Linear sort\n",
        "def linearsort(array):\n",
        "  l = len(array)\n",
        "  for i in range(l):\n",
        "    for j in range(l):\n",
        "      if array[i] < array[j]:\n",
        "        array[i], array[j] = array[j], array[i]\n",
        "  return array"
      ],
      "metadata": {
        "id": "fTtGSuB4mhGJ"
      },
      "execution_count": null,
      "outputs": []
    },
    {
      "cell_type": "code",
      "source": [
        "arr = [20, 5, 10, 2]\n",
        "linearsort(arr)"
      ],
      "metadata": {
        "colab": {
          "base_uri": "https://localhost:8080/"
        },
        "id": "TFayqR0gKoT4",
        "outputId": "33bac4c1-0174-4e50-f273-9f3db29265d3"
      },
      "execution_count": null,
      "outputs": [
        {
          "output_type": "execute_result",
          "data": {
            "text/plain": [
              "[2, 5, 10, 20]"
            ]
          },
          "metadata": {},
          "execution_count": 11
        }
      ]
    },
    {
      "cell_type": "code",
      "source": [
        "#Linear Search\n",
        "def linearsearch(array, key):\n",
        "  l = len(array)\n",
        "  for i in range(l):\n",
        "    if array[i] == key:\n",
        "      return \"Key is in index\", array[i]\n",
        "  return False"
      ],
      "metadata": {
        "id": "TFjLmRMMipI8"
      },
      "execution_count": null,
      "outputs": []
    },
    {
      "cell_type": "code",
      "source": [
        "arr = [20, 5, 10, 2]\n",
        "linearsearch(arr, 5)"
      ],
      "metadata": {
        "colab": {
          "base_uri": "https://localhost:8080/"
        },
        "id": "cDpeqF7oi-Sf",
        "outputId": "11e27b02-6032-4544-b449-07aa3d5a9b82"
      },
      "execution_count": null,
      "outputs": [
        {
          "output_type": "execute_result",
          "data": {
            "text/plain": [
              "('Key is in index', 5)"
            ]
          },
          "metadata": {},
          "execution_count": 38
        }
      ]
    },
    {
      "cell_type": "code",
      "source": [
        "#selection sort\n",
        "def selectionsort(array):\n",
        "  l = len(array)\n",
        "  for i in range(l-1):\n",
        "    min = i\n",
        "    for j in range(i+1, l):\n",
        "      if array[min] > array[j]:\n",
        "        min = j\n",
        "    array[i], array[min] = array[min], array[i]\n",
        "\n",
        "  return arr"
      ],
      "metadata": {
        "id": "UHuutHrqozLR"
      },
      "execution_count": null,
      "outputs": []
    },
    {
      "cell_type": "code",
      "source": [
        "arr = [20, 5, 10, 2]\n",
        "selectionsort(arr)"
      ],
      "metadata": {
        "colab": {
          "base_uri": "https://localhost:8080/"
        },
        "id": "GB5huffg3nn0",
        "outputId": "7e71d896-b2fd-457f-cc01-0f2a8352dd4c"
      },
      "execution_count": null,
      "outputs": [
        {
          "output_type": "execute_result",
          "data": {
            "text/plain": [
              "[2, 5, 10, 20]"
            ]
          },
          "metadata": {},
          "execution_count": 4
        }
      ]
    },
    {
      "cell_type": "code",
      "source": [
        "#Bubble sort\n",
        "def bubblesort(array):\n",
        "  l = len(array)\n",
        "  for i in range(l-1):\n",
        "    for j in range(l-1-i):\n",
        "      if j+1 < l and array[j] > array[j+1]:\n",
        "        array[j], array[j+1] = array[j+1], array[j]\n",
        "  return array\n"
      ],
      "metadata": {
        "id": "avTPO0K5341d"
      },
      "execution_count": null,
      "outputs": []
    },
    {
      "cell_type": "code",
      "source": [
        "array = [20, 5, 10, 2]\n",
        "bubblesort(array)"
      ],
      "metadata": {
        "colab": {
          "base_uri": "https://localhost:8080/"
        },
        "id": "Kh3URswGu87P",
        "outputId": "b1214bfc-f883-4c86-ca1d-9556329f8e76"
      },
      "execution_count": null,
      "outputs": [
        {
          "output_type": "execute_result",
          "data": {
            "text/plain": [
              "[2, 5, 10, 20]"
            ]
          },
          "metadata": {},
          "execution_count": 13
        }
      ]
    },
    {
      "cell_type": "code",
      "source": [
        "#Insertion sort\n",
        "def insertionsort(array):\n",
        "  l = len(array)\n",
        "  for i in range(1,l-1):\n",
        "    key = array[i]\n",
        "    j = i-1\n",
        "    while j >= 0 and array[j] > key:\n",
        "      array[j+1] = array[j]\n",
        "      j -= 1\n",
        "    array[j+1] = key\n",
        "  return array"
      ],
      "metadata": {
        "id": "4vvFB692wBoK"
      },
      "execution_count": null,
      "outputs": []
    },
    {
      "cell_type": "code",
      "source": [
        "array = [20, 2, 30, 0, 100]\n",
        "insertionsort(array)"
      ],
      "metadata": {
        "colab": {
          "base_uri": "https://localhost:8080/"
        },
        "id": "eEaCx9K42kTr",
        "outputId": "695e9e88-4dfb-48f6-c1c5-22dc4a4d9560"
      },
      "execution_count": null,
      "outputs": [
        {
          "output_type": "execute_result",
          "data": {
            "text/plain": [
              "[0, 2, 20, 30, 100]"
            ]
          },
          "metadata": {},
          "execution_count": 7
        }
      ]
    },
    {
      "cell_type": "code",
      "source": [
        "#Merge sort\n",
        "def mergesort(array):\n",
        "  l = len(array)\n",
        "  if l > 1:\n",
        "   m = l//2\n",
        "   L = array[0:m]\n",
        "   R = array[m:]\n",
        "   i = j = k = 0\n",
        "   while i < len(L) and j < len(R):\n",
        "    if L[i] < R[j]:\n",
        "      array[k] = L[i]\n",
        "      i += 1\n",
        "      k += 1\n",
        "    else:\n",
        "        array[k] = R[j]\n",
        "        j += 1\n",
        "        k += 1\n",
        "   while i < len(L):\n",
        "      array[k] = L[i]\n",
        "      i += 1\n",
        "      k += 1\n",
        "   while j < len(R):\n",
        "      array[k] = R[j]\n",
        "      j += 1\n",
        "      k += 1\n",
        "  return array\n",
        "\n",
        ""
      ],
      "metadata": {
        "id": "W9BDgV2E2w5b"
      },
      "execution_count": null,
      "outputs": []
    },
    {
      "cell_type": "code",
      "source": [
        "arr = [12, 11, 13, 5, 6, 7]\n",
        "print(mergesort(arr))"
      ],
      "metadata": {
        "colab": {
          "base_uri": "https://localhost:8080/"
        },
        "id": "rcF5A50jQiwC",
        "outputId": "ce6e9bc1-454e-42c1-f610-7629a12115b2"
      },
      "execution_count": null,
      "outputs": [
        {
          "output_type": "stream",
          "name": "stdout",
          "text": [
            "[5, 6, 7, 12, 11, 13]\n"
          ]
        }
      ]
    },
    {
      "cell_type": "code",
      "source": [
        "#Quick sort\n",
        "def partition(array, start, end):\n",
        "  pivot = array[start]\n",
        "  low = start+1\n",
        "  high = end\n",
        "  while True:\n",
        "\n",
        "     while low <= high and array[high] >= pivot:\n",
        "       high = high -1\n",
        "     while low <= high and array[low] <= pivot:\n",
        "       low = low +1\n",
        "     if low <= high:\n",
        "       array[low], array[high] = array[high], array[low]\n",
        "     else:\n",
        "       break\n",
        "  array[start], array [high] =   array [high], array[start]\n",
        "  return high\n",
        "\n",
        "def quicksort(array, start, end):\n",
        "    if start >= end:\n",
        "      return\n",
        "    p = partition(array, start, end)\n",
        "    quicksort(array, start, p-1)\n",
        "    quicksort(array, p+1, end)\n"
      ],
      "metadata": {
        "id": "AZm45OCKQxub"
      },
      "execution_count": null,
      "outputs": []
    },
    {
      "cell_type": "code",
      "source": [
        " array = [5,3,1,9,8,2,4,7]\n",
        "\n",
        "quicksort(array, 0, len(array) - 1)\n",
        "print(array)"
      ],
      "metadata": {
        "colab": {
          "base_uri": "https://localhost:8080/"
        },
        "id": "R7MrjlK6g81f",
        "outputId": "aa828469-2ce1-4b2b-90c6-936e9c158d90"
      },
      "execution_count": null,
      "outputs": [
        {
          "output_type": "stream",
          "name": "stdout",
          "text": [
            "[1, 2, 3, 4, 5, 7, 8, 9]\n"
          ]
        }
      ]
    },
    {
      "cell_type": "code",
      "source": [
        "#quick sort2\n",
        "\n",
        "\n",
        "def quicksort(arr, start, end):\n",
        "  if start >= end:\n",
        "    return\n",
        "  p= partition(arr, start, end) #pivot\n",
        "  quicksort(arr, start, p-1)\n",
        "  quicksort(arr, p+1, end)\n",
        "\n",
        "def partition(arr, left, right):\n",
        "  p= arr[left]\n",
        "  i = left+1\n",
        "  j = right\n",
        "\n",
        "\n",
        "  while True:\n",
        "    while i <= j and p >= arr[i]:\n",
        "      i += 1\n",
        "    while i <= j and p <= arr[j]:\n",
        "      j -= 1\n",
        "    if i <= j:\n",
        "        arr[i], arr[j] = arr[j], arr[i]\n",
        "    else:\n",
        "      break\n",
        "  arr[left], arr[j] = arr[j], arr[left]\n",
        "  return j\n",
        "\n",
        "a= [5,3,1,9,8,2,4,7]\n",
        "quicksort(a,0,len(a)-1)\n",
        "print(a)"
      ],
      "metadata": {
        "colab": {
          "base_uri": "https://localhost:8080/"
        },
        "id": "ztP0ac2I3hX-",
        "outputId": "33a148ae-e994-4a7b-c625-c6a86fc91258"
      },
      "execution_count": null,
      "outputs": [
        {
          "output_type": "stream",
          "name": "stdout",
          "text": [
            "[1, 2, 3, 4, 5, 7, 8, 9]\n"
          ]
        }
      ]
    },
    {
      "cell_type": "code",
      "source": [
        "#Ternary Search\n",
        "def ternarysearch(left, right, key, array):\n",
        "  if (right >= left):\n",
        "    mid1 = left+(right-left)//3\n",
        "    mid2 = right-(right-left)//3\n",
        "\n",
        "    if (array[mid1] == key):\n",
        "      return mid1\n",
        "\n",
        "    if (array[mid2] == key):\n",
        "      return mid2\n",
        "\n",
        "    if (key < array[mid1]):\n",
        "      return ternarysearch( left, mid1 - 1, key, array)\n",
        "\n",
        "    elif (key > array[mid2]):\n",
        "      return ternarysearch(mid2 + 1, right, key, array)\n",
        "\n",
        "    else:\n",
        "      return ternarysearch(mid1 + 1, mid2 - 1, key, array)\n",
        "\n",
        "  return \"Key is not found\"\n"
      ],
      "metadata": {
        "id": "QjuwJ5W2hxpj"
      },
      "execution_count": null,
      "outputs": []
    },
    {
      "cell_type": "code",
      "source": [
        " l, r, p = 0, 9, 5\n",
        "ar = [ 1, 2, 3, 4, 5, 6, 7, 8, 9, 10 ]\n",
        "key = 10\n",
        "p = ternarysearch(l, r, key, ar)\n",
        "print(\"Index of\", key, \"is\", p)"
      ],
      "metadata": {
        "colab": {
          "base_uri": "https://localhost:8080/"
        },
        "id": "i9LGy-YVVEWg",
        "outputId": "73cf5170-7847-4032-d35e-07e38439b60c"
      },
      "execution_count": null,
      "outputs": [
        {
          "output_type": "stream",
          "name": "stdout",
          "text": [
            "Index of 10 is 9\n"
          ]
        }
      ]
    },
    {
      "cell_type": "code",
      "source": [
        "#Heapsort #Maxheap\n",
        "def heapsort(array):\n",
        "  l = len(array)\n",
        "  for i in range(l//2, -1, -1):\n",
        "    maxheap(array,len(array), i)\n",
        "  for i in range(l-1,-1,-1):\n",
        "    array[0], array[i] = array[i], array[0]\n",
        "    maxheap(array, i, 0)\n",
        "def maxheap(array, length, i):\n",
        "  largest = i\n",
        "  left = 2*i+1\n",
        "  right = 2*i+2\n",
        "  if left < length and array[left] > array[largest]:\n",
        "    largest = left\n",
        "  if right < length and array[right] > array[largest]:\n",
        "    largest = right\n",
        "  if largest != i:\n",
        "    array[i], array[largest] = array[largest], array[i]\n",
        "    maxheap(array,length, largest)\n",
        ""
      ],
      "metadata": {
        "id": "GI-P-Ly87VaN"
      },
      "execution_count": null,
      "outputs": []
    },
    {
      "cell_type": "code",
      "source": [
        "a =[10, 6, 4,  3, 2, 1, 20]\n",
        "heapsort(a)\n",
        "print(a)"
      ],
      "metadata": {
        "colab": {
          "base_uri": "https://localhost:8080/"
        },
        "id": "6yhwQMXM4Nqn",
        "outputId": "d915d281-02b1-49cb-8a26-00d818e11f09"
      },
      "execution_count": null,
      "outputs": [
        {
          "output_type": "stream",
          "name": "stdout",
          "text": [
            "[1, 2, 3, 4, 6, 10, 20]\n"
          ]
        }
      ]
    },
    {
      "cell_type": "code",
      "source": [
        "#Heapsort #MinHeap\n",
        "def minheapsort(array):\n",
        "  l = len(array)\n",
        "  for i in range(l//2, -1, -1):\n",
        "    minheap(array, len(array), i)\n",
        "\n",
        "  for i in range(l-1, -1, -1):\n",
        "    array[0], array[i] = array[i], array[0]\n",
        "    minheap(array, i, 0)\n",
        "\n",
        "def minheap(array, length, i):\n",
        "  lowest = i\n",
        "  left = 2*i+1\n",
        "  right = 2*i+2\n",
        "  if left < length and array[left] < array [lowest]:\n",
        "    lowest = left\n",
        "  if right < length and array[right] < array[lowest]:\n",
        "    lowest = right\n",
        "  if lowest != i:\n",
        "    array[i], array[lowest] = array[lowest], array[i]"
      ],
      "metadata": {
        "id": "lUCPmRV74e06"
      },
      "execution_count": null,
      "outputs": []
    },
    {
      "cell_type": "code",
      "source": [
        "a =[10, 6, 4,  3, 2, 1, 20]\n",
        "minheapsort(a)\n",
        "print(a)"
      ],
      "metadata": {
        "colab": {
          "base_uri": "https://localhost:8080/"
        },
        "id": "49Y9BZMd6EA1",
        "outputId": "c147321f-ceba-481d-c892-09dc89885f81"
      },
      "execution_count": null,
      "outputs": [
        {
          "output_type": "stream",
          "name": "stdout",
          "text": [
            "[20, 10, 3, 6, 4, 2, 1]\n"
          ]
        }
      ]
    },
    {
      "cell_type": "code",
      "source": [
        "#BFS\n",
        "def BFS(graph, root):\n",
        "  if root == None:\n",
        "    return []\n",
        "  result = []\n",
        "  Q = [] #Queue\n",
        "  Q.append(root)\n",
        "  while Q:                      ####PROBLEM#######\n",
        "    size = len(Q)\n",
        "    current_list = []\n",
        "    for i in range(size):\n",
        "      node = Q[0]\n",
        "      Q.pop(0)\n",
        "      if node.left != None:\n",
        "        Q.append(node.left)\n",
        "      if node.right != None:\n",
        "        Q.append(node.right)\n",
        "      current_list.append(node.val)\n",
        "      result.append(current_list)\n",
        "  return result\n"
      ],
      "metadata": {
        "id": "O4M8FEodc1O0"
      },
      "execution_count": null,
      "outputs": []
    },
    {
      "cell_type": "code",
      "source": [
        "graph = {\n",
        "  '5' : ['3','7'],\n",
        "  '3' : ['2', '4'],\n",
        "  '7' : ['8'],\n",
        "  '2' : [],\n",
        "  '4' : ['8'],\n",
        "  '8' : []\n",
        "}\n",
        "\n",
        "visited = []\n",
        "queue = []\n",
        "def BFS(visited,graph, node):\n",
        "  visited.append(node)\n",
        "  queue.append(node)\n",
        "\n",
        "  while queue:\n",
        "    m = queue.pop(0)\n",
        "    print(m, end= ' ')\n",
        "\n",
        "    for neighbour in graph[m]:\n",
        "      if neighbour not in visited:\n",
        "        visited.append(neighbour)\n",
        "        queue.append(neighbour)\n",
        "\n",
        "print(\"The following BFS is: \")\n",
        "BFS(visited, graph, '5')\n"
      ],
      "metadata": {
        "id": "yBYgP5J6bDZF",
        "colab": {
          "base_uri": "https://localhost:8080/"
        },
        "outputId": "0119e573-66fe-47ea-f824-13cc915540dc"
      },
      "execution_count": null,
      "outputs": [
        {
          "output_type": "stream",
          "name": "stdout",
          "text": [
            "The following BFS is: \n",
            "5 3 7 2 4 8 "
          ]
        }
      ]
    },
    {
      "cell_type": "code",
      "source": [
        "#DFS\n",
        "graph = {\n",
        "  '5' : ['3','7'],\n",
        "  '3' : ['2', '4'],\n",
        "  '7' : ['8'],\n",
        "  '2' : [],\n",
        "  '4' : ['8'],\n",
        "  '8' : []\n",
        "}\n",
        "visited = set()\n",
        "\n",
        "def DFS(visited, graph, node):\n",
        "  if node not in visited:\n",
        "    print(node, end= \" \")\n",
        "    visited.add(node)\n",
        "    for neighbour in graph[node]:\n",
        "        DFS(visited, graph,neighbour)\n",
        "print(\"The following DFS is: \")\n",
        "DFS(visited, graph, '5')"
      ],
      "metadata": {
        "colab": {
          "base_uri": "https://localhost:8080/"
        },
        "id": "kHOTJJD8Y1_b",
        "outputId": "a38cbc30-d08d-49f3-ba45-89757a580954"
      },
      "execution_count": null,
      "outputs": [
        {
          "output_type": "stream",
          "name": "stdout",
          "text": [
            "The following DFS is: \n",
            "5 3 2 4 8 7 "
          ]
        }
      ]
    },
    {
      "cell_type": "code",
      "source": [
        "#Graph to adjacency matrix conversion\n",
        "\"\"\"\n",
        "number of nodes = n\n",
        "\n",
        "0->1\n",
        "0->3\n",
        "1->3\n",
        "1->2\n",
        "2->3\n",
        "\"\"\"\n",
        "adj_matrix = []\n",
        "for i in range(4):\n",
        "  adj_matrix.append([ 0 for i in range(4)])\n",
        "#print(adj_matrix)\n",
        "adj_matrix[0][1], adj_matrix[1][0] = 1, 1\n",
        "adj_matrix[0][3], adj_matrix[3][0] = 1, 1\n",
        "adj_matrix[1][3], adj_matrix[3][1] = 1, 1\n",
        "adj_matrix[1][2], adj_matrix[2][1] = 1, 1\n",
        "adj_matrix[2][3], adj_matrix[3][1] = 1, 1\n",
        "print(adj_matrix)\n"
      ],
      "metadata": {
        "colab": {
          "base_uri": "https://localhost:8080/"
        },
        "id": "bwQZSYFdbd7-",
        "outputId": "cf978bda-59b5-4f3a-e8dc-0a8664c7e61b"
      },
      "execution_count": null,
      "outputs": [
        {
          "output_type": "stream",
          "name": "stdout",
          "text": [
            "[[0, 1, 0, 1], [1, 0, 1, 1], [0, 1, 0, 1], [1, 1, 0, 0]]\n"
          ]
        }
      ]
    },
    {
      "cell_type": "code",
      "source": [
        "#Tree Genaration\n",
        "class Node:\n",
        "  def __init__(self, data):\n",
        "    self.right = None\n",
        "    self.left = None\n",
        "    self.data = data\n",
        "\n",
        "root = Node(100)\n",
        "root.left = Node(34)\n",
        "root.right = Node(89)\n",
        "root.left.left = Node(45)\n",
        "root.left.right = Node(50)"
      ],
      "metadata": {
        "id": "wZS9tT88jvsv"
      },
      "execution_count": null,
      "outputs": []
    },
    {
      "cell_type": "code",
      "source": [
        "def preorder(node):\n",
        "  if node:\n",
        "    print(node.data, end= ' ')\n",
        "    preorder(node.left)\n",
        "    preorder(node.right)\n",
        "\n",
        "print(\"Desired Pre-order is: \")\n",
        "preorder(root)\n",
        ""
      ],
      "metadata": {
        "colab": {
          "base_uri": "https://localhost:8080/"
        },
        "id": "GJ_vT2vhna75",
        "outputId": "165578c0-d799-4ff8-e846-17c6535add9e"
      },
      "execution_count": null,
      "outputs": [
        {
          "output_type": "stream",
          "name": "stdout",
          "text": [
            "Desired Pre-order is: \n",
            "100 34 45 50 89 "
          ]
        }
      ]
    },
    {
      "cell_type": "code",
      "source": [
        "def inorder(node):\n",
        "  if node:\n",
        "    inorder(node.left)\n",
        "    print(node.data, end = \" \")\n",
        "    inorder(node.right)\n",
        "print(\"Desired In-order is: \")\n",
        "inorder(root)"
      ],
      "metadata": {
        "colab": {
          "base_uri": "https://localhost:8080/"
        },
        "id": "70Zl46AmnwSq",
        "outputId": "fcec56ab-d463-406c-d6c7-7581c66743a9"
      },
      "execution_count": null,
      "outputs": [
        {
          "output_type": "stream",
          "name": "stdout",
          "text": [
            "Desired In-order is: \n",
            "45 34 50 100 89 "
          ]
        }
      ]
    },
    {
      "cell_type": "code",
      "source": [
        "def postorder(node):\n",
        "  if node:\n",
        "    postorder(node.left)\n",
        "    postorder(node.right)\n",
        "    print(node.data, end = \" \")\n",
        "print(\"Desired Post-order is: \")\n",
        "postorder(root)"
      ],
      "metadata": {
        "colab": {
          "base_uri": "https://localhost:8080/"
        },
        "id": "wRDClUXHokol",
        "outputId": "2cef49c7-f8d0-4adb-d5b6-e1fae813b2a2"
      },
      "execution_count": null,
      "outputs": [
        {
          "output_type": "stream",
          "name": "stdout",
          "text": [
            "Desired Post-order is: \n",
            "45 50 34 89 100 "
          ]
        }
      ]
    },
    {
      "cell_type": "code",
      "source": [],
      "metadata": {
        "id": "ASCD4jL2BrST"
      },
      "execution_count": null,
      "outputs": []
    },
    {
      "cell_type": "code",
      "source": [],
      "metadata": {
        "id": "gH3Bp9_KDnem"
      },
      "execution_count": null,
      "outputs": []
    }
  ]
}