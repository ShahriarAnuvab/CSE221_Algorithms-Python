{
  "nbformat": 4,
  "nbformat_minor": 0,
  "metadata": {
    "colab": {
      "provenance": []
    },
    "kernelspec": {
      "name": "python3",
      "display_name": "Python 3"
    },
    "language_info": {
      "name": "python"
    }
  },
  "cells": [
    {
      "cell_type": "code",
      "metadata": {
        "id": "ia4ir79Bzlem"
      },
      "source": [
        "#Task1\n",
        "def BubbleSort(A):\n",
        "  l =len(A)\n",
        "  for i in range(l):\n",
        "    for x in range(l-i-1):\n",
        "      #break\n",
        "      if A [x] <A[x-1]:\n",
        "        #print(A[x])\n",
        "        temp = A[x]\n",
        "        A[x] = A[x-1]\n",
        "        A[x-1] = temp\n",
        "  return A\n",
        ""
      ],
      "execution_count": null,
      "outputs": []
    },
    {
      "cell_type": "code",
      "metadata": {
        "id": "lPa_ggC8zoR0",
        "colab": {
          "base_uri": "https://localhost:8080/",
          "height": 244
        },
        "outputId": "c6dfa723-1d89-4082-eaa8-6b2a72132d29"
      },
      "source": [
        "inputFile=open('input1.txt')\n",
        "outputFile=open('output1.txt','w')\n",
        "line=inputFile.readline()\n",
        "tmp=line.split('\\n')\n",
        "n = int(tmp[0])\n",
        "\n",
        "line=inputFile.readline()\n",
        "tmp=line.split('\\n')\n",
        "arr=tmp[0].split(' ')\n",
        "A=[]\n",
        "for i in range(n):\n",
        "  A.append( int(arr[i]) )\n",
        "\n",
        "B=BubbleSort(A)\n",
        "for i in range(n):\n",
        "  outputFile.write(str(B[i]))\n",
        "  if i!=n-1:\n",
        "    outputFile.write(' ')\n",
        "  else :\n",
        "    outputFile.write('\\n')\n",
        "inputFile.close()\n",
        "outputFile.close()"
      ],
      "execution_count": null,
      "outputs": [
        {
          "output_type": "error",
          "ename": "ValueError",
          "evalue": "ignored",
          "traceback": [
            "\u001b[0;31m---------------------------------------------------------------------------\u001b[0m",
            "\u001b[0;31mValueError\u001b[0m                                Traceback (most recent call last)",
            "\u001b[0;32m<ipython-input-10-d7028dafe828>\u001b[0m in \u001b[0;36m<module>\u001b[0;34m\u001b[0m\n\u001b[1;32m      3\u001b[0m \u001b[0mline\u001b[0m\u001b[0;34m=\u001b[0m\u001b[0minputFile\u001b[0m\u001b[0;34m.\u001b[0m\u001b[0mreadline\u001b[0m\u001b[0;34m(\u001b[0m\u001b[0;34m)\u001b[0m\u001b[0;34m\u001b[0m\u001b[0;34m\u001b[0m\u001b[0m\n\u001b[1;32m      4\u001b[0m \u001b[0mtmp\u001b[0m\u001b[0;34m=\u001b[0m\u001b[0mline\u001b[0m\u001b[0;34m.\u001b[0m\u001b[0msplit\u001b[0m\u001b[0;34m(\u001b[0m\u001b[0;34m'\\n'\u001b[0m\u001b[0;34m)\u001b[0m\u001b[0;34m\u001b[0m\u001b[0;34m\u001b[0m\u001b[0m\n\u001b[0;32m----> 5\u001b[0;31m \u001b[0mn\u001b[0m \u001b[0;34m=\u001b[0m \u001b[0mint\u001b[0m\u001b[0;34m(\u001b[0m\u001b[0mtmp\u001b[0m\u001b[0;34m[\u001b[0m\u001b[0;36m0\u001b[0m\u001b[0;34m]\u001b[0m\u001b[0;34m)\u001b[0m\u001b[0;34m\u001b[0m\u001b[0;34m\u001b[0m\u001b[0m\n\u001b[0m\u001b[1;32m      6\u001b[0m \u001b[0;34m\u001b[0m\u001b[0m\n\u001b[1;32m      7\u001b[0m \u001b[0mline\u001b[0m\u001b[0;34m=\u001b[0m\u001b[0minputFile\u001b[0m\u001b[0;34m.\u001b[0m\u001b[0mreadline\u001b[0m\u001b[0;34m(\u001b[0m\u001b[0;34m)\u001b[0m\u001b[0;34m\u001b[0m\u001b[0;34m\u001b[0m\u001b[0m\n",
            "\u001b[0;31mValueError\u001b[0m: invalid literal for int() with base 10: '4 7'"
          ]
        }
      ]
    },
    {
      "cell_type": "markdown",
      "metadata": {
        "id": "GyxpdLEtz5sH"
      },
      "source": [
        "Here, for best case senario, we have to take a sortred array as input. So, that the time complexity would be 0(n).\n",
        "Because, the nested loop run only onece for every iteration of outter loop.\n",
        "So, the time complexity is n*1= 0(n)."
      ]
    },
    {
      "cell_type": "code",
      "metadata": {
        "id": "9eJqED8-0zcQ"
      },
      "source": [
        "#Task2\n",
        "def SelectionSort(A):\n",
        "  l = len(A)\n",
        "  for i in range(l):\n",
        "    id = i\n",
        "    for x in range(i, l):\n",
        "      if A[x] < A[id]:\n",
        "       id = x\n",
        "    temp= A[id]\n",
        "    A[id] = A[i]\n",
        "    A[i] = temp\n",
        "  return A"
      ],
      "execution_count": null,
      "outputs": []
    },
    {
      "cell_type": "code",
      "metadata": {
        "id": "I-hWUi8UY-B-"
      },
      "source": [
        "inputFile=open('input2.txt')\n",
        "outputFile=open('output2.txt','w')\n",
        "line=inputFile.readline()\n",
        "tmp=line.split('\\n')\n",
        "tmp1=tmp[0].split(' ')\n",
        "n=int(tmp1[0])\n",
        "m=int(tmp1[1])\n",
        "\n",
        "line=inputFile.readline()\n",
        "tmp=line.split('\\n')\n",
        "arr=tmp[0].split(' ')\n",
        "A=[]\n",
        "for i in range(n):\n",
        "  A.append( int(arr[i]) )\n",
        "\n",
        "B=SelectionSort(A)\n",
        "\n",
        "for i in range(m):\n",
        "  outputFile.write(str(B[i]))\n",
        "  if i!=m-1:\n",
        "    outputFile.write(' ')\n",
        "  else :\n",
        "    outputFile.write('\\n')\n",
        "inputFile.close()\n",
        "outputFile.close()"
      ],
      "execution_count": null,
      "outputs": []
    },
    {
      "cell_type": "code",
      "metadata": {
        "id": "stmFEMbNf6O1"
      },
      "source": [
        "from google.colab import drive\n",
        "drive.mount('/content/drive')"
      ],
      "execution_count": null,
      "outputs": []
    },
    {
      "cell_type": "code",
      "metadata": {
        "colab": {
          "base_uri": "https://localhost:8080/"
        },
        "id": "uVE3RwgQ3hXm",
        "outputId": "f93cdade-c9ee-4cba-dc9d-363078a97bea"
      },
      "source": [
        "\n",
        "n = int(input(\"Enter array size: \"))\n",
        "m = int(input(\"Enter preffered element: \"))\n",
        "B = []\n",
        "for i in range(n):\n",
        "  e = int(input(\"Enter element price: \"))\n",
        "  B.append(e)\n",
        "C = SelectionSort(B)\n",
        "for i in range(m):\n",
        "  print(C[i], end= \" \")\n",
        "\n",
        "\n"
      ],
      "execution_count": null,
      "outputs": [
        {
          "output_type": "stream",
          "name": "stdout",
          "text": [
            "Enter array size: 5\n",
            "Enter preffered element: 3\n",
            "Enter element price: 5\n",
            "Enter element price: 0\n",
            "Enter element price: 1\n",
            "Enter element price: 4\n",
            "Enter element price: 3\n",
            "0 1 3 "
          ]
        }
      ]
    },
    {
      "cell_type": "code",
      "metadata": {
        "id": "32zNQldI4kyB"
      },
      "source": [
        "#Task3\n",
        "def InsertionSort(A,B):\n",
        "  l = len(A)\n",
        "  for i in range(0, l):\n",
        "    for x in reversed(range(1, l)):\n",
        "      if A[x] > A[x-1]:\n",
        "        temp = A[x]\n",
        "        A[x]= A[x-1]\n",
        "        A[x-1] = temp\n",
        "        temp1 = B[x]\n",
        "        B[x]= B[x-1]\n",
        "        B[x-1] = temp1\n",
        "inputFile=open('input3.txt')\n",
        "outputFile=open('output3.txt','w')\n",
        "line=inputFile.readline()\n",
        "tmp=line.split('\\n')\n",
        "n=int(tmp[0])\n",
        "\n",
        "line=inputFile.readline()\n",
        "tmp=line.split('\\n')\n",
        "arr=tmp[0].split(' ')\n",
        "id=[]\n",
        "for i in range(n):\n",
        "  id.append( int(arr[i]) )\n",
        "\n",
        "\n",
        "line=inputFile.readline()\n",
        "tmp=line.split('\\n')\n",
        "arr=tmp[0].split(' ')\n",
        "marks=[]\n",
        "for i in range(n):\n",
        "  marks.append( int(arr[i]) )\n",
        "\n",
        "InsertionSort(marks,id)\n",
        "\n",
        "for i in range(n):\n",
        "  outputFile.write(str(id[i]))\n",
        "  if i!=n-1:\n",
        "    outputFile.write(' ')\n",
        "  else :\n",
        "    outputFile.write('\\n')\n",
        "inputFile.close()\n",
        "outputFile.close()"
      ],
      "execution_count": null,
      "outputs": []
    },
    {
      "cell_type": "code",
      "metadata": {
        "id": "WaHaNO2O7Ho1"
      },
      "source": [
        "#task4\n",
        "def Merge(A,B):\n",
        "  l1= len(A)\n",
        "  l2 = len(B)\n",
        "  C=[0]*(l1+l2)\n",
        "  i = 0\n",
        "  j = 0\n",
        "  k = 0\n",
        "  while i < l1 and j < l2:\n",
        "    if A[i] < B [j]:\n",
        "      C[k] = A[i]\n",
        "      i +=1\n",
        "      k +=1\n",
        "    else:\n",
        "      C[k] = B[j]\n",
        "      j += 1\n",
        "      k += 1\n",
        "  while i < l1:\n",
        "      C[k] = A[i]\n",
        "      i += 1\n",
        "      k += 1\n",
        "  while j < l2:\n",
        "      C[k] = B[j]\n",
        "      j += 1\n",
        "      k += 1\n",
        "  return C\n",
        "\n",
        "def divide(A):\n",
        "  l = len(A)\n",
        "  if l == 1:\n",
        "    return A\n",
        "  mid = l//2\n",
        "  B = A[ :mid]\n",
        "  C = A[mid:l]\n",
        "\n",
        "  E = divide(B)\n",
        "  F = divide(C)\n",
        "  Y = Merge(E,F)\n",
        "  return Y\n",
        "\n",
        "\n",
        "\n"
      ],
      "execution_count": null,
      "outputs": []
    },
    {
      "cell_type": "code",
      "metadata": {
        "id": "6FzFsQ_Pcn0W"
      },
      "source": [
        "inputFile=open('input4.txt')\n",
        "outputFile=open('output4.txt','w')\n",
        "line=inputFile.readline()\n",
        "tmp=line.split('\\n')\n",
        "n=int(tmp[0])\n",
        "\n",
        "line=inputFile.readline()\n",
        "tmp=line.split('\\n')\n",
        "arr=tmp[0].split(' ')\n",
        "A=[]\n",
        "for i in range(n):\n",
        "  A.append( int(arr[i]) )\n",
        "\n",
        "B=divide(A)\n",
        "\n",
        "for i in range(n):\n",
        "  outputFile.write(str(B[i]))\n",
        "  if i!=n-1:\n",
        "    outputFile.write(' ')\n",
        "  else :\n",
        "    outputFile.write('\\n')\n",
        "inputFile.close()\n",
        "outputFile.close()"
      ],
      "execution_count": null,
      "outputs": []
    },
    {
      "cell_type": "code",
      "metadata": {
        "id": "1I_7puiV92Yk"
      },
      "source": [],
      "execution_count": null,
      "outputs": []
    }
  ]
}