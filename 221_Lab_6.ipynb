{
  "nbformat": 4,
  "nbformat_minor": 0,
  "metadata": {
    "colab": {
      "provenance": []
    },
    "kernelspec": {
      "name": "python3",
      "display_name": "Python 3"
    },
    "language_info": {
      "name": "python"
    }
  },
  "cells": [
    {
      "cell_type": "code",
      "execution_count": null,
      "metadata": {
        "id": "NF8heD1ftmZK"
      },
      "outputs": [],
      "source": [
        "#Task-1\n",
        "def LCS(match,prediction,n):\n",
        "  Nw= [[0 for x in range(n+2)] for y in range(n+2)]\n",
        "  for i in range(1,n+1):\n",
        "    for j in range(1,n+1):\n",
        "      if(match[i-1]==prediction[j-1]):\n",
        "        Nw[i][j]=1+Nw[i-1][j-1]\n",
        "      else :\n",
        "        Nw[i][j]=max(Nw[i-1][j],Nw[i][j-1])\n",
        "  lcs=[]\n",
        "  i=n\n",
        "  j=n\n",
        "  while i>0 and j>0:\n",
        "    if match[i-1] == prediction[j-1]:\n",
        "      lcs.append(match[i-1])\n",
        "      i-=1\n",
        "      j-=1\n",
        "    elif Nw[i-1][j] > Nw[i][j-1]:\n",
        "      i-=1\n",
        "    else:\n",
        "      j-=1\n",
        "  lcs.reverse()\n",
        "  return lcs"
      ]
    },
    {
      "cell_type": "code",
      "source": [
        "Zone = {\n",
        "  \"Y\": \"Yasnaya\",\n",
        "  \"P\": \"Pochinki\",\n",
        "  \"S\": \"School\",\n",
        "  \"R\": \"Rozhok\",\n",
        "  \"F\": \"Farm\",\n",
        "  \"M\": \"Mylta\",\n",
        "  \"H\": \"Shelter\",\n",
        "  \"I\": \"Prison\"\n",
        "}\n",
        "n=int(input())\n",
        "match=input()\n",
        "prediction=input()\n",
        "lcs=LCS(match,prediction,n)\n",
        "for x in lcs:\n",
        "  print(Zone[x],end=' ')\n",
        "print()\n",
        "correctness=(int(len(lcs))/n)*100\n",
        "print(\"Correctness of prediction: \"+ str(correctness)+\"%\")"
      ],
      "metadata": {
        "colab": {
          "base_uri": "https://localhost:8080/"
        },
        "id": "LucrOmfN0yWO",
        "outputId": "644cd4f0-0809-47e1-8c24-8b53ecd7d3e3"
      },
      "execution_count": null,
      "outputs": [
        {
          "output_type": "stream",
          "name": "stdout",
          "text": [
            "7\n",
            "YRSPFMH\n",
            "YRtPFMHI\n",
            "Yasnaya Rozhok Pochinki Farm Mylta Shelter \n",
            "Correctness of prediction: 85.71428571428571%\n"
          ]
        }
      ]
    },
    {
      "cell_type": "code",
      "source": [
        "#Task-2\n",
        "def LCS3(A,B,C):\n",
        "  l=len(A)\n",
        "  m=len(B)\n",
        "  n=len(C)\n",
        "  Nw=[[[0 for i in range(l+2)] for j in range(m+2)] for k in range(n+2)]\n",
        "  for i in range(1,l+1):\n",
        "      for j in range(1,m+1):\n",
        "          for k in range(1,n+1):\n",
        "              if (A[i-1] == B[j-1] and A[i-1] == C[k-1]):\n",
        "                  Nw=[[[0 for i in range(l+2)] for j in range(m+2)] for k in range(n+2)]\n",
        "                  Nw[i][j][k] =Nw [i-1][j-1][k-1] + 1\n",
        "              else:\n",
        "                  Nw[i][j][k] = max( max(Nw[i-1][j][k], Nw[i][j-1][k]), Nw[i][j][k-1])\n",
        "  return Nw[l][m][n]"
      ],
      "metadata": {
        "id": "kmCYGckeAZ8H"
      },
      "execution_count": null,
      "outputs": []
    },
    {
      "cell_type": "code",
      "source": [
        "A=input()\n",
        "B=input()\n",
        "C=input()\n",
        "print(LCS3(A,B,C))"
      ],
      "metadata": {
        "colab": {
          "base_uri": "https://localhost:8080/"
        },
        "id": "YdRNz6chCiXM",
        "outputId": "053b27cf-54a5-452c-fc46-2c19ef4996ac"
      },
      "execution_count": null,
      "outputs": [
        {
          "output_type": "stream",
          "name": "stdout",
          "text": [
            "abbcdab\n",
            "daccbadb\n",
            "abccdaab\n",
            "4\n"
          ]
        }
      ]
    },
    {
      "cell_type": "code",
      "source": [
        "#Task-3\n",
        "\n",
        "ar=[  [ [30,25],[35,40],[41,45],[26,26] ],[ [41,45],[43,47],[49,44],[46,47] ], [ [10,15],[35,20],[11,17],[29,16] ] ]\n",
        "for i in range(len(ar)):\n",
        "   print(\"Student: \",(i+1))\n",
        "   for j in range(len(ar[i])):\n",
        "      print(\"Course: \",(j+1))\n",
        "      print(\"Marks of Mid and Final: \")\n",
        "      for k in range(len(ar[i][j])):\n",
        "         print(ar[i][j][k],end=\" \")\n",
        "      print()\n",
        "   print()"
      ],
      "metadata": {
        "id": "uDz6_pzxCm62",
        "colab": {
          "base_uri": "https://localhost:8080/"
        },
        "outputId": "b4e241fc-9607-40dd-a8df-b101e3f1a696"
      },
      "execution_count": null,
      "outputs": [
        {
          "output_type": "stream",
          "name": "stdout",
          "text": [
            "Student:  1\n",
            "Course:  1\n",
            "Marks of Mid and Final: \n",
            "30 25 \n",
            "Course:  2\n",
            "Marks of Mid and Final: \n",
            "35 40 \n",
            "Course:  3\n",
            "Marks of Mid and Final: \n",
            "41 45 \n",
            "Course:  4\n",
            "Marks of Mid and Final: \n",
            "26 26 \n",
            "\n",
            "Student:  2\n",
            "Course:  1\n",
            "Marks of Mid and Final: \n",
            "41 45 \n",
            "Course:  2\n",
            "Marks of Mid and Final: \n",
            "43 47 \n",
            "Course:  3\n",
            "Marks of Mid and Final: \n",
            "49 44 \n",
            "Course:  4\n",
            "Marks of Mid and Final: \n",
            "46 47 \n",
            "\n",
            "Student:  3\n",
            "Course:  1\n",
            "Marks of Mid and Final: \n",
            "10 15 \n",
            "Course:  2\n",
            "Marks of Mid and Final: \n",
            "35 20 \n",
            "Course:  3\n",
            "Marks of Mid and Final: \n",
            "11 17 \n",
            "Course:  4\n",
            "Marks of Mid and Final: \n",
            "29 16 \n",
            "\n"
          ]
        }
      ]
    }
  ]
}