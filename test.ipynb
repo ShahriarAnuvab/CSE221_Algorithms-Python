{
  "nbformat": 4,
  "nbformat_minor": 0,
  "metadata": {
    "colab": {
      "provenance": []
    },
    "kernelspec": {
      "name": "python3",
      "display_name": "Python 3"
    },
    "language_info": {
      "name": "python"
    }
  },
  "cells": [
    {
      "cell_type": "code",
      "source": [
        "a = [[4, 5, 6, 8,], [2, 3, 6, 8], [7, 4, 2, 2], [5, 2, 1, 1]]\n",
        "M = 4\n",
        "N = 4\n",
        "array = []\n",
        "for i in range(M):    #Here time complexity is o(n)\n",
        "  sm = a[i][i]\n",
        "  array.append(sm)\n",
        "#print(array)\n",
        "\n",
        "l = len(array)\n",
        "for i in range(l):    #Here time complexity is o(n^2)\n",
        "  for j in range(l):\n",
        "    if array[i] < array[j]:\n",
        "      array[i], array[j] = array[j], array[i]\n",
        "#print(array)\n",
        "\n",
        "for i in range(M):     #Here time complexity is o(n)\n",
        "  a[i][i]= array[i]\n",
        "#print(a)\n",
        "\n",
        "for i in range(M):   #Here time complexity is o(n^2)\n",
        "  for j in range(N):\n",
        "    print(a[i][j],end=\" \")\n",
        "  print()\n"
      ],
      "metadata": {
        "colab": {
          "base_uri": "https://localhost:8080/"
        },
        "id": "cjIh8T0zHGp7",
        "outputId": "455e003d-f201-45ba-c55e-99be02f43e92"
      },
      "execution_count": null,
      "outputs": [
        {
          "output_type": "stream",
          "name": "stdout",
          "text": [
            "1 5 6 8 \n",
            "2 2 6 8 \n",
            "7 4 3 2 \n",
            "5 2 1 4 \n"
          ]
        }
      ]
    },
    {
      "cell_type": "code",
      "source": [
        "def lcs(t1, t2):\n",
        "  col = len(t1)\n",
        "  row = len(t2)\n",
        "\n",
        "  mat = [[0 for i in range(0, col+1)] for i in range(0, row+1)]\n",
        "  for i in range(1, row+1):\n",
        "    for j in range(1, col+1):\n",
        "      if t2[i-1] == t1[j-1]:\n",
        "        mat[i][j] = mat[i-1][j-1] + 1\n",
        "      else:\n",
        "        mat[i][j] = max(mat[i][j-1], mat[i-1][j])\n",
        "  return mat\n",
        "\n",
        "\n",
        "\n",
        "def lscstring(t1, t2, mat):\n",
        "  row = len(t2)\n",
        "  col = len(t1)\n",
        "  result = \"\"\n",
        "  for i in range(0, len(t2)):\n",
        "    for j in range(0, len(t1)):\n",
        "      if row == 0 or col == 0:\n",
        "        return result\n",
        "      elif t2[row-1] == t1[col-1]:\n",
        "        result = t2[row-1] + result\n",
        "        row -=1\n",
        "        col -=1\n",
        "      else:\n",
        "        if mat[row-1][col] > mat[row][col-1]:\n",
        "          row -= 1\n",
        "        else:\n",
        "          col -= 1\n",
        "  return result\n",
        "\n",
        "\n",
        "\n",
        "\n",
        "t1 = \"abcdab\"\n",
        "t2 = \"bdacb\"\n",
        "mat = lcs(t1, t2)\n",
        "print(lscstring(t1, t2, mat))\n"
      ],
      "metadata": {
        "colab": {
          "base_uri": "https://localhost:8080/"
        },
        "id": "KTjbQcy8HPRl",
        "outputId": "d1f96c00-ed6f-4484-d52d-256cc0a79039"
      },
      "execution_count": null,
      "outputs": [
        {
          "output_type": "stream",
          "name": "stdout",
          "text": [
            "bdab\n"
          ]
        }
      ]
    },
    {
      "cell_type": "code",
      "source": [],
      "metadata": {
        "id": "9Y5L2qNpMkm_"
      },
      "execution_count": null,
      "outputs": []
    }
  ]
}